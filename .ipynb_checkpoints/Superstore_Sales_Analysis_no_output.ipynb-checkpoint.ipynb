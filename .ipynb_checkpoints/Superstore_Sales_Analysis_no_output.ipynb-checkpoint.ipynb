{
 "cells": [
  {
   "cell_type": "markdown",
   "id": "472d7871-b55a-4c0d-9b56-475a1814b9d9",
   "metadata": {},
   "source": [
    "# 📊 Sales Analysis - Superstore Dataset "
   ]
  },
  {
   "cell_type": "markdown",
   "id": "31d6b3c5-8020-430c-9aa2-15dc08b995e5",
   "metadata": {},
   "source": [
    "**First Project of the Data Analytics Training Program**\n",
    "*In partnership with Brainwave Matrix Solutions - 2025*\n",
    "##### Project Goal: Analyze sales data\n",
    "###### Tools Used: Python (Pandas, Matplotlib, Seaborn, plotly.express), Jupyter Notebook\n",
    "###### Data Source: [Superstore Dataset from Kaggle](https://www.kaggle.com/datasets/vivek468/superstore-dataset-final)"
   ]
  },
  {
   "cell_type": "markdown",
   "id": "2b5ae1be-8a4b-4b8e-ad6c-6a13da91ff20",
   "metadata": {},
   "source": [
    "# 1. Importing Libraries and Data"
   ]
  },
  {
   "cell_type": "code",
   "execution_count": null,
   "id": "2749167d-2042-40cd-a91d-84539a5deede",
   "metadata": {},
   "outputs": [],
   "source": [
    "import pandas as pd\n",
    "import numpy as np\n",
    "import matplotlib.pyplot as plt\n",
    "%matplotlib inline\n",
    "import seaborn as sns\n",
    "import plotly.express as px"
   ]
  },
  {
   "cell_type": "code",
   "execution_count": null,
   "id": "41487344-55db-447b-a1bd-76c907993a4e",
   "metadata": {},
   "outputs": [],
   "source": [
    "df = pd.read_csv('SampleSuperstore.csv', encoding='latin1')\n",
    "df.head()"
   ]
  },
  {
   "cell_type": "markdown",
   "id": "e2fe97f1-2492-46f1-9238-6aa783ac7ecf",
   "metadata": {},
   "source": [
    "# 2. Data Exploration"
   ]
  },
  {
   "cell_type": "code",
   "execution_count": null,
   "id": "42d5939c-45c8-40ce-bf37-55105c8989ba",
   "metadata": {},
   "outputs": [],
   "source": [
    "print(df.info())"
   ]
  },
  {
   "cell_type": "code",
   "execution_count": null,
   "id": "c93e9fb1-82e8-449e-8c31-ad7d2a6846da",
   "metadata": {},
   "outputs": [],
   "source": [
    "df.isnull().sum()"
   ]
  },
  {
   "cell_type": "code",
   "execution_count": null,
   "id": "901a6ef4-eb07-4b24-b513-466c148940af",
   "metadata": {},
   "outputs": [],
   "source": [
    "df.describe()"
   ]
  },
  {
   "cell_type": "code",
   "execution_count": null,
   "id": "10c29ffd-ffb6-4348-9a2f-5cb08b2f43b0",
   "metadata": {},
   "outputs": [],
   "source": [
    "categorical_columns = [cname for cname in df.columns if df[cname].dtype == \"object\"]\n",
    "categorical_columns"
   ]
  },
  {
   "cell_type": "code",
   "execution_count": null,
   "id": "c3b5d388-fe2c-4fd1-b1b5-19fd79ed4359",
   "metadata": {},
   "outputs": [],
   "source": [
    "print(\"unique values in Ship Mode: {0}\".format(len(df['Ship Mode'].unique().tolist())))\n",
    "print(df['Ship Mode'].value_counts())"
   ]
  },
  {
   "cell_type": "code",
   "execution_count": null,
   "id": "f7e9475b-657d-4f49-b00e-c816c48316b1",
   "metadata": {},
   "outputs": [],
   "source": [
    "print(\"unique values in Segment: {0}\".format(len(df['Segment'].unique().tolist())))\n",
    "print(df['Segment'].value_counts())"
   ]
  },
  {
   "cell_type": "code",
   "execution_count": null,
   "id": "ecbf8ca8-3778-4bd8-83c2-02880132de2f",
   "metadata": {},
   "outputs": [],
   "source": [
    "print(\"unique values in Country: {0}\".format(len(df['Country'].unique().tolist())))\n",
    "print(df['Country'].value_counts())"
   ]
  },
  {
   "cell_type": "code",
   "execution_count": null,
   "id": "24498074-e5b5-4424-9cb2-f0d705358435",
   "metadata": {},
   "outputs": [],
   "source": [
    "print(\"unique values in State: {0}\".format(len(df['State'].unique().tolist())))\n",
    "print(df['State'].value_counts())"
   ]
  },
  {
   "cell_type": "code",
   "execution_count": null,
   "id": "131243cf-97d2-4390-b93f-b3c6b98a73fa",
   "metadata": {},
   "outputs": [],
   "source": [
    "print(\"unique values in City: {0}\".format(len(df['City'].unique().tolist())))\n",
    "print(df['City'].value_counts())\n",
    "df.groupby(['Region', 'State'])['City'].value_counts()"
   ]
  },
  {
   "cell_type": "code",
   "execution_count": null,
   "id": "da5d38c7-6d42-4095-b8fa-a61e8df47323",
   "metadata": {},
   "outputs": [],
   "source": [
    "print(\"unique values in Region: {0}\".format(len(df['Region'].unique().tolist())))\n",
    "print(df['Region'].value_counts())"
   ]
  },
  {
   "cell_type": "code",
   "execution_count": null,
   "id": "37ff5ded-fd84-4b65-a80d-85e5b00b6dd0",
   "metadata": {},
   "outputs": [],
   "source": [
    "print(\"unique values in Category: {0}\".format(len(df['Category'].unique().tolist())))\n",
    "print(df['Category'].value_counts())"
   ]
  },
  {
   "cell_type": "code",
   "execution_count": null,
   "id": "cdd066c8-e125-4a4b-a9c5-8e6a05126f46",
   "metadata": {},
   "outputs": [],
   "source": [
    "print(\"unique values in Sub Category: {0}\".format(len(df['Sub-Category'].unique().tolist())))\n",
    "print(df['Sub-Category'].value_counts())\n",
    "df.groupby('Category')['Sub-Category'].value_counts()"
   ]
  },
  {
   "cell_type": "code",
   "execution_count": null,
   "id": "3f3aa83b-cf55-47b4-9a23-03b4c69002fb",
   "metadata": {},
   "outputs": [],
   "source": [
    "print(\"unique values in Products: {0}\".format(len(df['Product Name'].unique().tolist())))\n",
    "print(df['Product Name'].value_counts())\n",
    "df.groupby(['Category', 'Sub-Category'])['Product Name'].value_counts()"
   ]
  },
  {
   "cell_type": "markdown",
   "id": "c22f51b7-3111-4d9f-9719-3f33f8449689",
   "metadata": {},
   "source": [
    "# 3. Data Cleaning"
   ]
  },
  {
   "cell_type": "code",
   "execution_count": null,
   "id": "185e62ff-89b9-494e-9596-b5b3ab1ce814",
   "metadata": {},
   "outputs": [],
   "source": [
    "# Fix dates\n",
    "df['Order Date'] = pd.to_datetime(df['Order Date'])\n",
    "df['Ship Date'] = pd.to_datetime(df['Ship Date']) \n",
    "print(df['Order Date'].dtype)\n",
    "print(df['Ship Date'].dtype)"
   ]
  },
  {
   "cell_type": "code",
   "execution_count": null,
   "id": "84e13e7d-1b38-4590-abba-84e14ac374fb",
   "metadata": {},
   "outputs": [],
   "source": [
    "# Add useful columns\n",
    "df['Unit Price'] = df['Sales'] / df['Quantity']\n",
    "df['Total Cost'] = df['Sales'] - df['Profit']\n",
    "df['Total Discount'] = df['Discount'] * df['Quantity']\n",
    "df['Gross Profit'] = df['Profit'] + df['Total Discount']\n",
    "df['Profit Margin'] = (df['Profit'] / df['Sales']) * 100\n",
    "\n",
    "# Processing dates\n",
    "df['Order Year'] = df['Order Date'].dt.year\n",
    "df['Order Month'] = df['Order Date'].dt.month\n",
    "df['Order Day'] = df['Order Date'].dt.day\n",
    "df['Order Weekday'] = df['Order Date'].dt.day_name()\n",
    "\n",
    "df['Ship Date'] = pd.to_datetime(df['Ship Date'])\n",
    "df['Ship Year'] = df['Ship Date'].dt.year\n",
    "df['Ship Month'] = df['Ship Date'].dt.month\n",
    "df['Ship Day'] = df['Ship Date'].dt.day\n",
    "df['Ship Weekday'] = df['Ship Date'].dt.day_name()\n",
    "\n",
    "df['Shipping Delay'] = (df['Ship Date'] - df['Order Date']).dt.days"
   ]
  },
  {
   "cell_type": "code",
   "execution_count": null,
   "id": "4403f9ea-af2c-42c1-aff2-43334ca41e9a",
   "metadata": {},
   "outputs": [],
   "source": [
    "df.head()"
   ]
  },
  {
   "cell_type": "markdown",
   "id": "23a7686c-6aef-40dd-8f7c-1b16ec56efa5",
   "metadata": {},
   "source": [
    "# 4. Descriptive analysis (preliminary)"
   ]
  },
  {
   "cell_type": "markdown",
   "id": "0f00312f-e885-49fd-ae91-19f3f9fc8cf0",
   "metadata": {},
   "source": [
    "### ---- Net profit calculation ----"
   ]
  },
  {
   "cell_type": "code",
   "execution_count": null,
   "id": "97e2b36b-a6be-4b6b-a231-c1c6ea4ed4dc",
   "metadata": {},
   "outputs": [],
   "source": [
    "net_profit = df['Profit'].sum()\n",
    "print(f\"Net profit/total loss: ${net_profit:,.2f}\")\n",
    "net_profit"
   ]
  },
  {
   "cell_type": "markdown",
   "id": "d12023bf-8e03-4242-b109-e281c5a337ac",
   "metadata": {},
   "source": [
    "### ---- Winning and losing deals ----"
   ]
  },
  {
   "cell_type": "code",
   "execution_count": null,
   "id": "e7d2db08-6309-4e2c-b968-8c272309666c",
   "metadata": {},
   "outputs": [],
   "source": [
    "total_transactions = len(df)\n",
    "profitable_transactions = len(df[df['Profit'] > 0])\n",
    "loss_transactions = len(df[df['Profit'] < 0])\n",
    "\n",
    "print(f\"Total Trades: {total_transactions}\")\n",
    "print(f\"Profitable Trades: {profitable_transactions} ({profitable_transactions/total_transactions*100:.1f}%)\")\n",
    "print(f\"Losing deals: {loss_transactions} ({loss_transactions/total_transactions*100:.1f}%)\")"
   ]
  },
  {
   "cell_type": "markdown",
   "id": "0511e4cf-c1e4-4092-99be-0c4d6e20c3f0",
   "metadata": {},
   "source": [
    "### ---- Profit Distribution by Item  ----"
   ]
  },
  {
   "cell_type": "code",
   "execution_count": null,
   "id": "d3662c5e-26c9-40e1-82e4-1a495b12c6e5",
   "metadata": {},
   "outputs": [],
   "source": [
    "plt.figure(figsize=(8, 3))\n",
    "plt.hist(df['Profit'], bins=50, color='lightgreen', edgecolor='black')\n",
    "plt.axvline(0, color='red', linestyle='dashed', linewidth=1)\n",
    "plt.title('Profit Distribution by Item')\n",
    "plt.xlabel('Profit per item')\n",
    "plt.ylabel('Number of Items')  \n",
    "plt.show()"
   ]
  },
  {
   "cell_type": "markdown",
   "id": "2001d576-2159-4cb9-973a-29224f0783af",
   "metadata": {},
   "source": [
    "### ---- Distribution of major categories  ----"
   ]
  },
  {
   "cell_type": "code",
   "execution_count": null,
   "id": "bdae9a09-6c1f-4445-b78f-83f505dc6bc9",
   "metadata": {},
   "outputs": [],
   "source": [
    "category_ratio = df['Category'].value_counts(normalize=True)\n",
    "plt.figure(figsize=(6, 6))\n",
    "plt.pie(category_ratio.values, labels=category_ratio.index, autopct='%1.1f%%', startangle=90, colors=sns.color_palette('pastel'), shadow=True)\n",
    "plt.title('Demand ratio by category')\n",
    "plt.show()"
   ]
  },
  {
   "cell_type": "markdown",
   "id": "52e1b4d4-c67d-457d-8b81-8fb1b8332d3b",
   "metadata": {},
   "source": [
    "### ---- Top Spending Customers  ----"
   ]
  },
  {
   "cell_type": "code",
   "execution_count": null,
   "id": "947bd570-085c-46ee-a16e-054418fa814e",
   "metadata": {},
   "outputs": [],
   "source": [
    "customer_analysis = df.groupby(['Customer ID', 'Customer Name']).agg(\n",
    "    Total_Orders=('Order ID', 'nunique'),\n",
    "    Total_Spent=('Sales', 'sum')\n",
    ").reset_index().sort_values('Total_Spent', ascending=False).head(10)\n",
    "\n",
    "px.treemap(customer_analysis, path=['Customer Name'], values='Total_Spent',\n",
    "          title='Top 10 Spending Customers')"
   ]
  },
  {
   "cell_type": "markdown",
   "id": "11ddc942-7745-4745-b01a-6f1febc37780",
   "metadata": {},
   "source": [
    "### ---- Analysis of the most requested states - a relative representation of the top 4 states by number of requests  ----"
   ]
  },
  {
   "cell_type": "code",
   "execution_count": null,
   "id": "42970061-c923-43d1-a8d1-3b5f86314a58",
   "metadata": {},
   "outputs": [],
   "source": [
    "States_orders = df['State'].value_counts().head(4)\n",
    "mylabels = States_orders.values / States_orders.values.sum() *100\n",
    "plt.pie(States_orders, startangle=90, labels=mylabels.round(1), colors=['#2D3250', '#F6B17A'], shadow=True)\n",
    "plt.legend(labels=States_orders.index, loc='upper right')\n",
    "plt.title('Top 4 States by Order Count')\n",
    "plt.show()"
   ]
  },
  {
   "cell_type": "markdown",
   "id": "dcdf5c1e-be1e-4374-a583-3fcb058781a9",
   "metadata": {},
   "source": [
    "# 🔍*Temporal analysis of data*"
   ]
  },
  {
   "cell_type": "markdown",
   "id": "fda19f19-64ae-4199-a014-6092fd219d8d",
   "metadata": {},
   "source": [
    "## ===== Part One: Order Timing Analysis ====="
   ]
  },
  {
   "cell_type": "markdown",
   "id": "d8e5c345-c44e-47f8-8cce-093092ae3faa",
   "metadata": {},
   "source": [
    "### ---- 📊Analysis of the most requested time ----"
   ]
  },
  {
   "cell_type": "code",
   "execution_count": null,
   "id": "0713e069-77fc-464e-974b-86d45940b5f1",
   "metadata": {},
   "outputs": [],
   "source": [
    "fig, axs = plt.subplots(2, 2, figsize=(16, 10))\n",
    "\n",
    "# Orders by year\n",
    "sns.countplot(x='Order Year', data=df, ax=axs[0, 0],hue='Order Year', palette='Blues')\n",
    "axs[0, 0].set_title('Number of Orders per Year')\n",
    "axs[0, 0].set_xlabel('Year')\n",
    "axs[0, 0].set_ylabel('Number of Orders')\n",
    "\n",
    "# Orders by month\n",
    "sns.countplot(x='Order Month', data=df, ax=axs[0, 1],hue='Order Month', palette='Greens')\n",
    "axs[0, 1].set_title('Number of Orders per Month')\n",
    "axs[0, 1].set_xlabel('Month')\n",
    "axs[0, 1].set_ylabel('Number of Orders')\n",
    "\n",
    "# Orders by day of the month\n",
    "sns.countplot(x='Order Day', data=df, ax=axs[1, 0], hue='Order Day', palette='Oranges')\n",
    "axs[1, 0].set_title('Number of orders per day of the month')\n",
    "axs[1, 0].set_xlabel('Day')\n",
    "axs[1, 0].set_ylabel('Number of Orders')\n",
    "\n",
    "# Orders by days of the week\n",
    "sns.countplot(x='Order Weekday', data=df, ax=axs[1, 1], order=['Friday', 'Saturday', 'Sunday', 'Monday', 'Tuesday', 'Wednesday', 'Thursday'],\n",
    "              hue='Order Weekday', palette='Purples')\n",
    "axs[1, 1].set_title('Number of requests by day of the week')\n",
    "axs[1, 1].set_xlabel('Day')\n",
    "axs[1, 1].set_ylabel('Number of Orders')\n",
    "\n",
    "plt.tight_layout()\n",
    "plt.show()"
   ]
  },
  {
   "cell_type": "markdown",
   "id": "6e93b52d-d97a-45eb-89f7-25b903813467",
   "metadata": {},
   "source": [
    "#### 🕵️‍♂️ **Insights from Time-Based Order Analysis:**\n",
    "\n",
    "1. **Yearly Trend:**\n",
    "   The number of orders shows a consistent growth over the years, indicating increasing customer engagement and possibly expanding business operations.\n",
    "\n",
    "2. **Monthly Trend:**\n",
    "   Certain months, particularly \"November\" and \"December\", exhibit a spike in order volume. This could be attributed to seasonal promotions, holidays, or year-end sales.\n",
    "\n",
    "3. **Daily Trend (Day of Month):**\n",
    "   Orders appear to be fairly evenly distributed across the days of each month, with slight peaks around the 20th and 21th of the month, which might correlate with salary cycles or specific promotions.\n",
    "\n",
    "4. **Weekly Trend (Day of Week):**\n",
    "   Most orders are placed on Monday and Friday, suggesting a pattern in consumer behavior, such as increased shopping at the beginning or end of the week. Lower order volumes on Wednesday could guide targeted marketing efforts."
   ]
  },
  {
   "cell_type": "markdown",
   "id": "150ea357-b205-4b3b-aeb2-374f912577c9",
   "metadata": {},
   "source": [
    "###  ---- 📊Sales change over time ----"
   ]
  },
  {
   "cell_type": "code",
   "execution_count": null,
   "id": "65f61fea-6b27-4c34-9b3a-fbcd98d9fb0b",
   "metadata": {},
   "outputs": [],
   "source": [
    "plt.figure(figsize=(12, 5))\n",
    "df_grouped_sales = df.groupby('Order Date')['Sales'].sum().reset_index()\n",
    "sns.lineplot(data=df_grouped_sales, x='Order Date', y='Sales', color='#199fff')\n",
    "plt.title('Sales change over time')\n",
    "plt.xlabel('Order Date')\n",
    "plt.ylabel('Sales')\n",
    "plt.grid(True, linestyle='--', alpha=0.5)\n",
    "plt.tight_layout()\n",
    "plt.show()"
   ]
  },
  {
   "cell_type": "markdown",
   "id": "92f4ab92-862c-4b30-86f7-77d7744a6563",
   "metadata": {},
   "source": [
    "Sales show an overall upward trend with noticeable fluctuations, reflecting seasonal demand and promotional campaigns. Monitoring this can guide inventory and sales strategies."
   ]
  },
  {
   "cell_type": "markdown",
   "id": "cb5a1a7d-49e8-4d91-af64-8c1fab538de3",
   "metadata": {},
   "source": [
    "###  ---- 📊Quantity change over time ----"
   ]
  },
  {
   "cell_type": "code",
   "execution_count": null,
   "id": "5a58d5d7-2ab1-4cce-9557-3cd9956a35b4",
   "metadata": {},
   "outputs": [],
   "source": [
    "plt.figure(figsize=(12, 5))\n",
    "df_grouped_quantity = df.groupby('Order Date')['Quantity'].sum().reset_index()\n",
    "sns.lineplot(data=df_grouped_quantity, x='Order Date', y='Quantity')\n",
    "plt.title('Quantity changes over time')\n",
    "plt.xlabel('Order Date')\n",
    "plt.ylabel('Quantity')\n",
    "plt.grid(True, linestyle='--', alpha=0.5)\n",
    "plt.grid(True, linestyle='--', alpha=0.5)\n",
    "plt.tight_layout()\n",
    "plt.show()"
   ]
  },
  {
   "cell_type": "markdown",
   "id": "4e886587-54ab-4492-8447-15f877be0eee",
   "metadata": {},
   "source": [
    "The quantity of items ordered follows a pattern similar to sales, with fluctuations indicating changes in demand. Tracking quantity helps identify high-demand periods and optimize stock levels."
   ]
  },
  {
   "cell_type": "markdown",
   "id": "34a84221-f878-4f3f-af92-24b774c6dc9e",
   "metadata": {},
   "source": [
    "###  ---- 📊The average discount changes over time ----"
   ]
  },
  {
   "cell_type": "code",
   "execution_count": null,
   "id": "9d498b76-7ab1-4e46-8460-3a5db6236f7c",
   "metadata": {},
   "outputs": [],
   "source": [
    "plt.figure(figsize=(12, 5))\n",
    "df_grouped_discount = df.groupby('Order Date')['Discount'].mean().reset_index()\n",
    "\n",
    "sns.lineplot(\n",
    "    data=df_grouped_discount,\n",
    "    x='Order Date',\n",
    "    y='Discount',\n",
    "    color='#c89ec4', \n",
    "    linewidth=2.5\n",
    ")\n",
    "\n",
    "plt.title('The average discount changes over time', fontsize=14, fontweight='bold')\n",
    "plt.xlabel('Order Date', fontsize=12)\n",
    "plt.ylabel('Average discount', fontsize=12)\n",
    "plt.grid(True, linestyle='--', alpha=0.5)\n",
    "plt.tight_layout()\n",
    "plt.show()"
   ]
  },
  {
   "cell_type": "markdown",
   "id": "a5b3a668-6f9f-4e6b-a5e3-ad33bc42a2d8",
   "metadata": {},
   "source": [
    "The average discount rate shows varying levels over time, possibly influenced by strategic promotions. Analyzing discount trends can help evaluate pricing effectiveness and customer responsiveness."
   ]
  },
  {
   "cell_type": "markdown",
   "id": "56cfad28-6942-49a2-9cb7-4f93e98e49f4",
   "metadata": {},
   "source": [
    "###  ---- 📊Profit changes over time ----"
   ]
  },
  {
   "cell_type": "code",
   "execution_count": null,
   "id": "880fc93e-5fea-4f56-a4b0-ab511d89b80c",
   "metadata": {},
   "outputs": [],
   "source": [
    "plt.figure(figsize=(12, 5))\n",
    "df_grouped_profit = df.groupby('Order Date')['Profit'].sum().reset_index()\n",
    "sns.lineplot(\n",
    "    data=df_grouped_profit,\n",
    "    x='Order Date',\n",
    "    y='Profit',\n",
    "    color='#6ba368' \n",
    ")\n",
    "plt.title('Profit changes over time')\n",
    "plt.xlabel('Order Date')\n",
    "plt.ylabel('Profit')\n",
    "plt.grid(True, linestyle='--', alpha=0.5)\n",
    "plt.tight_layout()\n",
    "plt.show()"
   ]
  },
  {
   "cell_type": "markdown",
   "id": "8e45dfcc-9013-4ace-a8c9-6f1afab362ad",
   "metadata": {},
   "source": [
    "- The graph shows the fluctuation of profits over time, which may indicate seasonal factors affecting sales and profitability.\n",
    "- Periods of significant profit increases can be observed, often associated with sales seasons or high demand.\n",
    "- Periods of significant decline may require further analysis to determine the cause (such as increased discounts or a decline in sales).\n",
    "\n",
    "🧠 Insight: If months or periods with consistently high profits are identified, marketing campaigns can be enhanced during those periods to increase revenue. Weak periods, however, may require improvements to pricing or offering strategies."
   ]
  },
  {
   "cell_type": "markdown",
   "id": "0736f50f-df97-42e0-95ac-91ea7bf54a4a",
   "metadata": {},
   "source": [
    "## Analyzing the Impact of Order Timing on Segment, Product, and Region\n",
    "In this section, we will examine how order timing (year, month, day of the week) affects:Different customer segments,\n",
    "categories,\n",
    "and geographic regions.\n",
    "\n",
    "This helps us understand customer preferences and order timing by category, which supports improved targeting and logistics planning."
   ]
  },
  {
   "cell_type": "markdown",
   "id": "febbbadb-d75e-46fb-9f4c-c3cf47036980",
   "metadata": {},
   "source": [
    "###  ---- 📊Effect of order time on segments ---- "
   ]
  },
  {
   "cell_type": "code",
   "execution_count": null,
   "id": "01a681da-1cc0-4b24-8b82-dbfb5de9ceea",
   "metadata": {},
   "outputs": [],
   "source": [
    "plt.figure(figsize=(14,6))\n",
    "sns.countplot(data=df, x='Order Month', hue='Segment', palette='Set2')\n",
    "plt.title('Distribution of the number of orders by month and segment')\n",
    "plt.xlabel('Order Month')\n",
    "plt.ylabel('Number of Orders')\n",
    "plt.legend(title='Segment')\n",
    "plt.grid(True, linestyle='--', alpha=0.5)\n",
    "plt.show()"
   ]
  },
  {
   "cell_type": "markdown",
   "id": "6e32dc80-86ab-470c-9a95-4219650bb398",
   "metadata": {},
   "source": [
    "###  ---- 📊Impact of order time on categories ---- "
   ]
  },
  {
   "cell_type": "code",
   "execution_count": null,
   "id": "99a845ab-8eb8-4039-b957-efaf0866d19d",
   "metadata": {},
   "outputs": [],
   "source": [
    "plt.figure(figsize=(14,6))\n",
    "top_categories = df['Category'].value_counts().index\n",
    "sns.countplot(data=df[df['Category'].isin(top_categories)], x='Order Month', hue='Category', palette='Set1')\n",
    "plt.title('Distribution of the number of ordres by month and category')\n",
    "plt.xlabel('Order Month')\n",
    "plt.ylabel('Number of Orders')\n",
    "plt.legend(title='Category')\n",
    "plt.grid(True, linestyle='--', alpha=0.5)\n",
    "plt.show()"
   ]
  },
  {
   "cell_type": "markdown",
   "id": "24ab2346-3402-4897-b216-e69184f11ce0",
   "metadata": {},
   "source": [
    "###  ---- 📊Impact of demand time on regions ---- "
   ]
  },
  {
   "cell_type": "code",
   "execution_count": null,
   "id": "140596d3-ef9f-4874-bd77-66e8238c32cd",
   "metadata": {},
   "outputs": [],
   "source": [
    "plt.figure(figsize=(14,6))\n",
    "sns.countplot(data=df, x='Order Month', hue='Region', palette='Paired')\n",
    "plt.title('Distribution of the number of orders by month and region')\n",
    "plt.xlabel('Order Month')\n",
    "plt.ylabel('Number of Orders')\n",
    "plt.legend(title='Region')\n",
    "plt.grid(True, linestyle='--', alpha=0.5)\n",
    "plt.show()"
   ]
  },
  {
   "cell_type": "markdown",
   "id": "b0e83cbc-9b43-46f1-9e92-9d77144ada1e",
   "metadata": {},
   "source": [
    "## ===== Part Two: Analysis of Shipping Timing ====="
   ]
  },
  {
   "cell_type": "markdown",
   "id": "6433af61-3a1e-4711-adfa-5341c2f518a5",
   "metadata": {},
   "source": [
    "### ---- 📊Analyze the most common shipping times for products ----"
   ]
  },
  {
   "cell_type": "code",
   "execution_count": null,
   "id": "190ab0a2-9c17-4e3a-ae7a-803f640f3265",
   "metadata": {},
   "outputs": [],
   "source": [
    "plt.figure(figsize=(14, 10))\n",
    "fig, axs = plt.subplots(2, 2, figsize=(16, 10))\n",
    "\n",
    "# Number of shipments per year\n",
    "sns.countplot(x='Ship Year', data=df, ax=axs[0, 0], hue='Ship Year', palette='Blues')\n",
    "axs[0, 0].set_title('Number of shipments per year')\n",
    "axs[0, 0].set_xlabel('Year')\n",
    "axs[0, 0].set_ylabel('Number of shipments')\n",
    "\n",
    "# Number of shipments per month\n",
    "sns.countplot(x='Ship Month', data=df, ax=axs[0, 1], hue='Ship Month', palette='Greens')\n",
    "axs[0, 1].set_title('Number of shipments per month')\n",
    "axs[0, 1].set_xlabel('Month')\n",
    "axs[0, 1].set_ylabel('Number of shipments')\n",
    "\n",
    "# Number of shipments per day of the month\n",
    "sns.countplot(x='Ship Day', data=df, ax=axs[1, 0], hue='Ship Day', palette='Oranges')\n",
    "axs[1, 0].set_title('Number of shipments per day of the month')\n",
    "axs[1, 0].set_xlabel('Day')\n",
    "axs[1, 0].set_ylabel('Number of shipments')\n",
    "\n",
    "# Number of shipments by day of the week\n",
    "sns.countplot(x='Ship Weekday', data=df, \n",
    "              order=['Monday', 'Tuesday', 'Wednesday', 'Thursday', 'Friday', 'Saturday', 'Sunday'],\n",
    "              ax=axs[1, 1], hue='Ship Weekday', palette='Purples')\n",
    "axs[1, 1].set_title('Number of shipments by day of the week')\n",
    "axs[1, 1].set_xlabel('Day')\n",
    "axs[1, 1].set_ylabel('Number of shipments')\n",
    "\n",
    "plt.tight_layout()\n",
    "plt.show()"
   ]
  },
  {
   "cell_type": "markdown",
   "id": "aec126e5-5370-4b81-aeb6-77b81ec3f437",
   "metadata": {},
   "source": [
    "#### 🕵️‍♂️ Insights:\n",
    "\n",
    "The number of shipments increases a little every year, which may mean more customers.\n",
    "\n",
    "Most shipments happen in November and December. This could be because of holidays.\n",
    "\n",
    "There are more shipments in the middle of the month, around days 10 to 20.\n",
    "\n",
    "Most shipments happen from Monday to Friday, and very few on weekends.\n",
    "\n",
    "This helps plan better: more staff can work during busy times.\n",
    "\n"
   ]
  },
  {
   "cell_type": "markdown",
   "id": "d7a08684-f630-48a6-9daf-d4107655ddaa",
   "metadata": {},
   "source": [
    "## Analyzing Shipping Date Relationships\n",
    "This section also analyzes its temporal link with sales, profit, discounts, and quantity. The goal is to extract actionable logistics insights."
   ]
  },
  {
   "cell_type": "markdown",
   "id": "e88abb5f-3907-4869-86e5-275d48ff350c",
   "metadata": {},
   "source": [
    "### ---- 📊Sales change by shipment date ----"
   ]
  },
  {
   "cell_type": "code",
   "execution_count": null,
   "id": "59327927-682b-493e-b95e-04b9d608fbfd",
   "metadata": {},
   "outputs": [],
   "source": [
    "df_grouped_sales = df.groupby('Ship Date')['Sales'].sum().reset_index()\n",
    "plt.figure(figsize=(12, 5))\n",
    "sns.lineplot(data=df_grouped_sales, x='Ship Date', y='Sales', color='navy')\n",
    "plt.title('Sales change by shipment date')\n",
    "plt.xlabel('Ship Date')\n",
    "plt.ylabel('Total sales')\n",
    "plt.grid(True, linestyle='--', alpha=0.5)\n",
    "plt.tight_layout()\n",
    "plt.show()"
   ]
  },
  {
   "cell_type": "markdown",
   "id": "3f83590d-0097-4de1-a6d9-985bcaf9e343",
   "metadata": {},
   "source": [
    "#### 🕵️‍♂️ Insight:\n",
    "Sales peak strongly at year-end, likely driven by seasonal demand."
   ]
  },
  {
   "cell_type": "markdown",
   "id": "5dafd566-0f97-4ee4-9761-fb4181236606",
   "metadata": {},
   "source": [
    "### ---- 📊Profit changes depending on shipping date ----"
   ]
  },
  {
   "cell_type": "code",
   "execution_count": null,
   "id": "1fd3d411-533c-4349-9e35-b17abc425c4d",
   "metadata": {},
   "outputs": [],
   "source": [
    "df_grouped_profit = df.groupby('Ship Date')['Profit'].sum().reset_index()\n",
    "plt.figure(figsize=(12, 5))\n",
    "sns.lineplot(data=df_grouped_profit, x='Ship Date', y='Profit', color='green')\n",
    "plt.title('Profit changes depending on shipping date.')\n",
    "plt.xlabel('Ship Date')\n",
    "plt.ylabel('Profit')\n",
    "plt.grid(True, linestyle='--', alpha=0.5)\n",
    "plt.tight_layout()\n",
    "plt.show()"
   ]
  },
  {
   "cell_type": "markdown",
   "id": "50e12edf-d605-4c9d-aad6-c6f133cd49ec",
   "metadata": {},
   "source": [
    "#### 🕵️‍♂️ Insight: \n",
    "profit generally follows sales patterns, but variations suggest differences in cost or discounts."
   ]
  },
  {
   "cell_type": "markdown",
   "id": "27647a07-39b2-4202-95d0-7692bd839fe3",
   "metadata": {},
   "source": [
    "### ---- 📊Discount changes depending on shipping date ----"
   ]
  },
  {
   "cell_type": "code",
   "execution_count": null,
   "id": "00425c39-ae7c-42d8-93b1-f869dae08221",
   "metadata": {},
   "outputs": [],
   "source": [
    "df_grouped_discount = df.groupby('Ship Date')['Discount'].mean().reset_index()\n",
    "plt.figure(figsize=(12, 5))\n",
    "sns.lineplot(data=df_grouped_discount, x='Ship Date', y='Discount', color='purple')\n",
    "plt.title('Discount changes depending on shipping date.')\n",
    "plt.xlabel('Ship Date')\n",
    "plt.ylabel('Average discount')\n",
    "plt.grid(True, linestyle='--', alpha=0.5)\n",
    "plt.tight_layout()\n",
    "plt.show()"
   ]
  },
  {
   "cell_type": "markdown",
   "id": "155bcc04-5dc3-4938-9be6-8adc5fc086c0",
   "metadata": {},
   "source": [
    "#### 🕵️‍♂️ Insight:\n",
    "Discounts rise during specific periods, possibly due to promotions or end-of-season clearance."
   ]
  },
  {
   "cell_type": "markdown",
   "id": "c43e184f-29b3-44a8-95a1-c958b8a07945",
   "metadata": {},
   "source": [
    "### ---- 📊Quantity changes depending on shipping date ----"
   ]
  },
  {
   "cell_type": "code",
   "execution_count": null,
   "id": "93b29b85-fb39-49ed-b806-e1562c6e4848",
   "metadata": {},
   "outputs": [],
   "source": [
    "df_grouped_quantity = df.groupby('Ship Date')['Quantity'].sum().reset_index()\n",
    "plt.figure(figsize=(12, 5))\n",
    "sns.lineplot(data=df_grouped_quantity, x='Ship Date', y='Quantity', color='orange')\n",
    "plt.title('Quantity changes depending on shipping date.')\n",
    "plt.xlabel('Ship Date')\n",
    "plt.ylabel('Total Quantity')\n",
    "plt.grid(True, linestyle='--', alpha=0.5)\n",
    "plt.tight_layout()\n",
    "plt.show()"
   ]
  },
  {
   "cell_type": "markdown",
   "id": "dfa75e70-ba9f-400a-91b8-258444746042",
   "metadata": {},
   "source": [
    "#### 🕵️‍♂️ Insight:\n",
    "Quantities shipped tend to increase alongside sales, highlighting strong demand surges."
   ]
  },
  {
   "cell_type": "markdown",
   "id": "dfe7095d-714e-470e-8253-42a2218131c0",
   "metadata": {},
   "source": [
    "## Shipping Timing by Mode, Segment, and Region\n",
    "This section analyzes how shipping timing (day of year) relates to shipping mode, customer segment, and region via boxplots. It also visualizes the evolution of key performance metrics (sales, profit, discount, quantity) over shipping dates."
   ]
  },
  {
   "cell_type": "markdown",
   "id": "bdf7d14a-41ee-48dd-b3c8-7a091460116d",
   "metadata": {},
   "source": [
    "### ----📊Distribution of shipping days by shipping mode ----"
   ]
  },
  {
   "cell_type": "code",
   "execution_count": null,
   "id": "9d035a81-b4cb-4c7c-a081-4df7e6acd65f",
   "metadata": {},
   "outputs": [],
   "source": [
    "plt.figure(figsize=(12, 5))\n",
    "sns.boxplot(x='Ship Mode', y=df['Ship Date'].dt.dayofyear, data=df, hue='Ship Mode', palette='Blues')\n",
    "plt.title('Distribution of shipping days by shipping method')\n",
    "plt.xlabel('Ship Mode')\n",
    "plt.ylabel('Today of the year')\n",
    "plt.grid(True, linestyle='--', alpha=0.5)\n",
    "plt.tight_layout()\n",
    "plt.show()"
   ]
  },
  {
   "cell_type": "markdown",
   "id": "245685b5-ae82-4546-9a4f-97e157bac21a",
   "metadata": {},
   "source": [
    "#### 🕵️‍♂️ Insight:\n",
    "Second Class and Standard Class modes show broader shipping timing, whereas Same Day is faster and more consistent."
   ]
  },
  {
   "cell_type": "markdown",
   "id": "e40ae340-a815-464a-a743-1c5653827fb8",
   "metadata": {},
   "source": [
    "### ---- 📊Distribution of shipping days by segment ----"
   ]
  },
  {
   "cell_type": "code",
   "execution_count": null,
   "id": "e9a94929-3b16-40f8-aeea-5f3fcdc10761",
   "metadata": {},
   "outputs": [],
   "source": [
    "plt.figure(figsize=(12, 5))\n",
    "sns.boxplot(x='Segment', y=df['Ship Date'].dt.dayofyear, data=df, hue='Segment', palette='Greens')\n",
    "plt.title('Distribution of shipping days by segment')\n",
    "plt.xlabel('Segment')\n",
    "plt.ylabel('Today of the year')\n",
    "plt.grid(True, linestyle='--', alpha=0.5)\n",
    "plt.tight_layout()\n",
    "plt.show()"
   ]
  },
  {
   "cell_type": "markdown",
   "id": "c2f94851-ac4b-4f49-a3da-b5cba00bfa4a",
   "metadata": {},
   "source": [
    "#### 🕵️‍♂️ Insight:\n",
    "Consumer segment shows a wide range of shipping throughout the year. Corporate and Home Office are more focused."
   ]
  },
  {
   "cell_type": "markdown",
   "id": "cd62aa2f-edfa-4553-8884-99bb1a1944bf",
   "metadata": {},
   "source": [
    "### ----📊 Distribution of shipping days by region ----"
   ]
  },
  {
   "cell_type": "code",
   "execution_count": null,
   "id": "f9662e3d-4129-4c07-a90e-077ec245b345",
   "metadata": {},
   "outputs": [],
   "source": [
    "plt.figure(figsize=(12, 5))\n",
    "sns.boxplot(x='Region', y=df['Ship Date'].dt.dayofyear, data=df, hue='Region', palette='Oranges')\n",
    "plt.title('Distribution of shipping days by region')\n",
    "plt.xlabel('Region')\n",
    "plt.ylabel('Today of the year')\n",
    "plt.grid(True, linestyle='--', alpha=0.5)\n",
    "plt.tight_layout()\n",
    "plt.show()"
   ]
  },
  {
   "cell_type": "markdown",
   "id": "04d85bb2-3fd5-45a4-b612-f326726fdacd",
   "metadata": {},
   "source": [
    "#### 🕵️‍♂️Insight:\n",
    "Western region has tighter shipping timing, while Southern region ships more broadly throughout the year."
   ]
  },
  {
   "cell_type": "markdown",
   "id": "926d9b1c-4c72-4009-9875-2364426c588d",
   "metadata": {},
   "source": [
    "## ===== Part Three: Shipping Performance and Operational Delays ====="
   ]
  },
  {
   "cell_type": "markdown",
   "id": "38f09f77-87ba-4f29-9241-364c5526b41d",
   "metadata": {},
   "source": [
    "### Shipping Delay Analysis by Month and Season\n",
    "We analyzed the average number of days between the order date and the shipping date to identify if delays depend on the time of the year."
   ]
  },
  {
   "cell_type": "code",
   "execution_count": null,
   "id": "7faa3c0d-f62c-4407-8191-5c16ff8ac242",
   "metadata": {},
   "outputs": [],
   "source": [
    "def get_season(month):\n",
    "    if month in [12, 1, 2]:\n",
    "        return 'Winter'\n",
    "    elif month in [3, 4, 5]:\n",
    "        return 'Spring'\n",
    "    elif month in [6, 7, 8]:\n",
    "        return 'Summer'\n",
    "    else:\n",
    "        return 'Fall'\n",
    "\n",
    "df['Order Season'] = df['Order Month'].apply(get_season)\n",
    "\n",
    "# Calculate the average shipping delay\n",
    "avg_delay_overall = df['Shipping Delay'].mean()\n",
    "\n",
    "# Average calculation by month\n",
    "avg_delay_by_month = df.groupby('Order Month')['Shipping Delay'].mean()\n",
    "\n",
    "# Calculate the average by semester\n",
    "avg_delay_by_season = df.groupby('Order Season')['Shipping Delay'].mean().reindex(['Winter', 'Spring', 'Summer', 'Fall'])\n",
    "\n",
    "print(f\"Average overall delay time: {avg_delay_overall:.2f} Days\\n\")\n",
    "print(\"Average delay time by month:\")\n",
    "print(avg_delay_by_month)\n",
    "print(\"\\nAverage delay by semester:\")\n",
    "print(avg_delay_by_season)"
   ]
  },
  {
   "cell_type": "markdown",
   "id": "1f9a5f1c-4c12-4710-8f59-37ae25290733",
   "metadata": {},
   "source": [
    "### ---- 📊Average Delay by Month ----"
   ]
  },
  {
   "cell_type": "code",
   "execution_count": null,
   "id": "c3b82fbf-a2c5-4600-8d56-683b35340b08",
   "metadata": {
    "scrolled": true
   },
   "outputs": [],
   "source": [
    "plt.figure(figsize=(7,3))\n",
    "sns.lineplot(x=avg_delay_by_month.index, y=avg_delay_by_month.values, marker='o')\n",
    "plt.title('Average shipping delay time by order month')\n",
    "plt.xlabel('Month')\n",
    "plt.ylabel('Average delay time (Days)')\n",
    "plt.xticks(ticks=range(1,13))\n",
    "plt.grid(True)\n",
    "plt.show()"
   ]
  },
  {
   "cell_type": "markdown",
   "id": "05d798a3-9b01-4a2d-b0bf-e41678941398",
   "metadata": {},
   "source": [
    "### ---- 📊Average Delay by Season ----"
   ]
  },
  {
   "cell_type": "code",
   "execution_count": null,
   "id": "9b5340ac-9a9c-40f2-85ee-f4c513fddd62",
   "metadata": {
    "scrolled": true
   },
   "outputs": [],
   "source": [
    "plt.figure(figsize=(6,3))\n",
    "sns.barplot(x=avg_delay_by_season.index, y=avg_delay_by_season.values, hue=avg_delay_by_season.index, palette='coolwarm')\n",
    "plt.title('Average shipping delay by season')\n",
    "plt.xlabel('Season')\n",
    "plt.ylabel('Average delay time (Days)')\n",
    "plt.grid(True, linestyle='--', alpha=0.5)\n",
    "plt.show()"
   ]
  },
  {
   "cell_type": "markdown",
   "id": "cb1f18a6-58c7-478e-93a5-be207b27776e",
   "metadata": {},
   "source": [
    "### Key Findings\n",
    "Overall delay: Around 3 days on average.\n",
    "\n",
    "By Month:\n",
    "\n",
    "Delays are highest in January and April.\n",
    "\n",
    "Some months (e.g., June, September) show quicker shipping.\n",
    "\n",
    "By Season:\n",
    "\n",
    "Winter has the highest average delay, possibly due to holidays or weather.\n",
    "\n",
    "Summer and Fall tend to have slightly faster shipping.\n",
    "\n",
    "#### 🕵️‍♂️Recommendations:\n",
    "Inform customers during winter that slight delays may occur.\n",
    "\n",
    "Investigate January and April for specific bottlenecks (e.g., supplier holidays, low staffing).\n",
    "\n",
    "Use this data to plan logistics capacity better during high-delay months."
   ]
  },
  {
   "cell_type": "markdown",
   "id": "54801799-cf88-4993-a28e-48832dd4cbb4",
   "metadata": {},
   "source": [
    "## ===== Part Four: Impact of Shipping Delays on Business Dimensions =====\n",
    "- Different customer segments,\n",
    "- Products and categories,\n",
    "- Geographic areas (region, city),\n",
    "- Ship Mode\n",
    "\n",
    "The purpose is to identify the regions or categories experiencing the greatest shipping delays, to guide supply chain and customer service improvement efforts."
   ]
  },
  {
   "cell_type": "code",
   "execution_count": null,
   "id": "7a370fd9-abf8-4dd0-8699-6ab884e5315c",
   "metadata": {},
   "outputs": [],
   "source": [
    "# Filter data with positive delay only (ignore negative or zero values if they are illogical)\n",
    "df_delay = df[df['Shipping Delay'] >= 0]"
   ]
  },
  {
   "cell_type": "markdown",
   "id": "3d9aa738-6880-42cb-87fd-a4bf8a6ba33e",
   "metadata": {},
   "source": [
    "### ---- 📊Average shipping delay by Segment ----"
   ]
  },
  {
   "cell_type": "code",
   "execution_count": null,
   "id": "5261d68c-ceff-49d9-bade-4fa023e23e4e",
   "metadata": {
    "scrolled": true
   },
   "outputs": [],
   "source": [
    "avg_delay_segment = df_delay.groupby('Segment')['Shipping Delay'].mean().round(2).sort_values()\n",
    "\n",
    "plt.figure(figsize=(6,3))\n",
    "sns.barplot(x=avg_delay_segment.values, y=avg_delay_segment.index, hue=avg_delay_segment.values, palette='viridis')\n",
    "plt.title('Average shipping delay by Segment')\n",
    "plt.xlabel('Average delay time (days)')\n",
    "plt.ylabel('Segment')\n",
    "plt.show()"
   ]
  },
  {
   "cell_type": "markdown",
   "id": "a207924f-1702-4a6c-8f66-8bd05a82da15",
   "metadata": {},
   "source": [
    "### ---- 📊Average Shipping Delay by City - Top 15 Delayed Cities ----"
   ]
  },
  {
   "cell_type": "code",
   "execution_count": null,
   "id": "805201ef-02bb-4d87-9c7e-57ac8900dd90",
   "metadata": {
    "scrolled": true
   },
   "outputs": [],
   "source": [
    "avg_delay_city = df_delay.groupby('City')['Shipping Delay'].mean().sort_values(ascending=False).head(15)\n",
    "\n",
    "plt.figure(figsize=(10,4))\n",
    "sns.barplot(x=avg_delay_city.values, y=avg_delay_city.index, hue=avg_delay_city.index, palette='cubehelix')\n",
    "plt.title('Top 15 Cities with Average Shipping Delays')\n",
    "plt.xlabel('Average delay time (days)')\n",
    "plt.ylabel('City')\n",
    "plt.grid(True, linestyle='--', alpha=0.5)\n",
    "plt.show()"
   ]
  },
  {
   "cell_type": "markdown",
   "id": "bcb2eeab-0db4-4bc0-9560-bc617d5a0d8c",
   "metadata": {},
   "source": [
    "### ---- 📊Average shipping delay by shipping method ----"
   ]
  },
  {
   "cell_type": "code",
   "execution_count": null,
   "id": "ae63cbda-ea13-4dd7-90ba-bd5e1f502409",
   "metadata": {
    "scrolled": true
   },
   "outputs": [],
   "source": [
    "avg_delay_shipmode = df_delay.groupby('Ship Mode')['Shipping Delay'].mean().round(2).sort_values()\n",
    "\n",
    "plt.figure(figsize=(6,3))\n",
    "sns.barplot(x=avg_delay_shipmode.values, y=avg_delay_shipmode.index, hue=avg_delay_shipmode.values, palette='Set2')\n",
    "plt.title('Average shipping delay by shipping mode')\n",
    "plt.xlabel('Average delay time (days)')\n",
    "plt.ylabel('Ship Mode')\n",
    "plt.grid(True, linestyle='--', alpha=0.5)\n",
    "plt.show()"
   ]
  },
  {
   "cell_type": "markdown",
   "id": "d3d62386-a9e2-4f2a-9cd3-cae244679c78",
   "metadata": {},
   "source": [
    "### ---- Print a quick summary of the results ----"
   ]
  },
  {
   "cell_type": "code",
   "execution_count": null,
   "id": "ae055de3-5a6c-4048-a60e-53891e8acbcd",
   "metadata": {},
   "outputs": [],
   "source": [
    "avg_delay_segment = df_delay.groupby('Segment')['Shipping Delay'].mean().round(2).sort_values()\n",
    "avg_delay_category = df_delay.groupby('Category')['Shipping Delay'].mean().round(2).sort_values()\n",
    "avg_delay_region = df_delay.groupby('Region')['Shipping Delay'].mean().round(2).sort_values()\n",
    "\n",
    "print(\"Average shipping delay by Segment:\\n\", avg_delay_segment, \"\\n\")\n",
    "print(\"Average shipping delay by category:\\n\", avg_delay_category, \"\\n\")\n",
    "print(\"Average shipping delay by region:\\n\", avg_delay_region, \"\\n\")\n",
    "print(\"Average shipping delay by shipping mode:\\n\", avg_delay_shipmode, \"\\n\")"
   ]
  },
  {
   "cell_type": "markdown",
   "id": "08d71a93-c1f9-40f3-859b-11850b2481df",
   "metadata": {
    "jp-MarkdownHeadingCollapsed": true
   },
   "source": [
    "#### 🕵️‍♂️ Summary of Findings\n",
    "Segment:\n",
    "Home Office customers face the longest delays.\n",
    "Consumer orders tend to ship faster.\n",
    "\n",
    "Top 15 Delayed Cities:\n",
    "Certain urban centers consistently show higher shipping delays. This may be due to logistics complexity, distance from warehouses, or infrastructure issues.\n",
    "\n",
    "Ship Mode:\n",
    "Same Day mode has the shortest delays as expected.\n",
    "Standard Class and Second Class modes introduce more variability and longer average delays.\n",
    "\n",
    "Category:\n",
    "Office Supplies tend to experience higher delays than Furniture or Technology.\n",
    "\n",
    "#### 🕵️‍♂️ Recommendations\n",
    "Investigate high-delay categories (like office supplies): Are there vendor or inventory issues?\n",
    "\n",
    "Analyze city-level delays: Could traffic, distance, or courier service coverage be optimized?\n",
    "\n",
    "Improve shipping method selection: Encourage faster methods for time-sensitive clients.\n",
    "\n",
    "Educate customers: Provide accurate delivery time estimates depending on segment, city, and category.\n",
    "\n",
    "Optimize logistics flow in cities or regions with frequent bottlenecks."
   ]
  },
  {
   "cell_type": "markdown",
   "id": "000b3659-6d46-4245-96d3-edcdf2d46b78",
   "metadata": {},
   "source": [
    "# 🔍 *Analysis by Segment*"
   ]
  },
  {
   "cell_type": "markdown",
   "id": "b09d0043-4ee6-4a06-b5d0-5a6afcafa3c4",
   "metadata": {},
   "source": [
    "## ===== Part One: Segment Behavior Analysis over Time =====\n",
    "\n",
    "In this section, we will review:\n",
    "\n",
    "The segments that purchase the most.\n",
    "The evolution of orders, sales, and profit for each segment over time (monthly).\n",
    "\n",
    "The goal of the analysis is to identify the most profitable or most in-demand segments during specific periods to guide marketing and inventory strategies.\n",
    "Analyzing the impact of delays on various variables"
   ]
  },
  {
   "cell_type": "markdown",
   "id": "da6ec2a9-299e-4004-8d0a-d3282f69ed44",
   "metadata": {},
   "source": [
    "### ---- 📊Most purchased segments (number of orders) ----"
   ]
  },
  {
   "cell_type": "code",
   "execution_count": null,
   "id": "6254293d-6af1-46a5-ba22-20bd31402aea",
   "metadata": {
    "scrolled": true
   },
   "outputs": [],
   "source": [
    "plt.figure(figsize=(6,3))\n",
    "sns.countplot(data=df, x='Segment', hue='Segment', palette='Set2', order=df['Segment'].value_counts().index)\n",
    "plt.title('Number of orders by segment')\n",
    "plt.xlabel('Segment')\n",
    "plt.ylabel('Number of Orders')\n",
    "plt.grid(True, linestyle='--', alpha=0.5)\n",
    "plt.show()"
   ]
  },
  {
   "cell_type": "markdown",
   "id": "673a3d02-b7e9-4a91-ae4f-316d4fd19334",
   "metadata": {},
   "source": [
    "#### 🕵️‍♂️ Conclusions\n",
    "The majority of orders come from the Consumer segment, followed by the Corporate segment. The Home Office segment has the lowest order volume, which could indicate an opportunity for targeted marketing or may reflect a smaller market size."
   ]
  },
  {
   "cell_type": "markdown",
   "id": "2b49bb9d-9f4e-4167-afa7-ec528bdeb984",
   "metadata": {},
   "source": [
    "### ---- 📊Evolution of the number of Orders over time for each segment ----"
   ]
  },
  {
   "cell_type": "code",
   "execution_count": null,
   "id": "82c719b4-54f5-4ad4-aac8-fee5c8c3d005",
   "metadata": {},
   "outputs": [],
   "source": [
    "# Extract month and year name as time period\n",
    "df['Year-Month'] = df['Order Date'].dt.to_period('M').astype(str)\n",
    "\n",
    "orders_per_segment = df.groupby(['Year-Month', 'Segment'])['Order ID'].nunique().reset_index()\n",
    "orders_per_segment.columns = ['Year-Month', 'Segment', 'Order Count']\n",
    "\n",
    "plt.figure(figsize=(12,6))\n",
    "sns.lineplot(data=orders_per_segment, x='Year-Month', y='Order Count', hue='Segment', marker='o')\n",
    "plt.title('Number of monthly orders by segment')\n",
    "plt.xlabel('Time (month)')\n",
    "plt.ylabel('Number of orders')\n",
    "plt.xticks(rotation=45)\n",
    "plt.grid(True)\n",
    "plt.show()"
   ]
  },
  {
   "cell_type": "markdown",
   "id": "74d5427a-f63e-4032-a88a-70b66f5776db",
   "metadata": {},
   "source": [
    "#### 🕵️‍♂️ Conclusions\n",
    "The chart illustrates clear seasonality and differences in order volume across customer segments over time.\n",
    "\n",
    "The Consumer segment consistently records the highest number of monthly orders.\n",
    "\n",
    "The Corporate segment follows with moderate activity.\n",
    "\n",
    "The Home Office segment shows the lowest and most stable order trend.\n",
    "These trends highlight the importance of focusing marketing and inventory efforts on the Consumer segment, especially during peak months like November and December.\n",
    "\n"
   ]
  },
  {
   "cell_type": "markdown",
   "id": "9eb68b95-8d71-48ed-ad8d-e53682a627bc",
   "metadata": {},
   "source": [
    "### ---- 📊Sales evolution over time for each segment ----"
   ]
  },
  {
   "cell_type": "code",
   "execution_count": null,
   "id": "b63d3755-3557-40bd-897b-cb73dddf489a",
   "metadata": {},
   "outputs": [],
   "source": [
    "sales_per_segment = df.groupby(['Year-Month', 'Segment'])['Sales'].sum().reset_index()\n",
    "\n",
    "plt.figure(figsize=(12,6))\n",
    "sns.lineplot(data=sales_per_segment, x='Year-Month', y='Sales', hue='Segment', marker='o')\n",
    "plt.title('Monthly sales by segment')\n",
    "plt.xlabel('Time (month)')\n",
    "plt.ylabel('Total sales')\n",
    "plt.xticks(rotation=45)\n",
    "plt.grid(True)\n",
    "plt.show()"
   ]
  },
  {
   "cell_type": "markdown",
   "id": "552dac34-61ca-4153-a396-df6962a99e43",
   "metadata": {},
   "source": [
    "### ---- 📊Profit evolution over time for each segment ----"
   ]
  },
  {
   "cell_type": "code",
   "execution_count": null,
   "id": "a3525bc0-a301-4aba-8c50-cee3ffbf8127",
   "metadata": {},
   "outputs": [],
   "source": [
    "profit_per_segment = df.groupby(['Year-Month', 'Segment'])['Profit'].sum().reset_index()\n",
    "\n",
    "plt.figure(figsize=(12,6))\n",
    "sns.lineplot(data=profit_per_segment, x='Year-Month', y='Profit', hue='Segment', marker='o')\n",
    "plt.title('Monthly profit by segment')\n",
    "plt.xlabel('Time (month)')\n",
    "plt.ylabel('Total profit')\n",
    "plt.xticks(rotation=45)\n",
    "plt.grid(True)\n",
    "plt.show()"
   ]
  },
  {
   "cell_type": "markdown",
   "id": "5bcd34bb-fe92-4144-aed8-99560c609160",
   "metadata": {},
   "source": [
    "#### 🕵️‍♂️ Conclusions\n",
    "\n",
    "- The segment with the highest purchasing power is: Consumer.\n",
    "- There is a clear difference in order and sales volume between the three segments over time.\n",
    "- Some segments have higher purchasing activity during certain months, which may indicate seasonal campaigns or cyclical purchasing behavior.\n",
    "- The highest-selling segments are not necessarily the most profitable—the relationship between sales and profit should be monitored.\n",
    "#### 🕵️‍♂️ Recommendations\n",
    "- Focus on segments with high profitability, especially during the months when they are most active.\n",
    "- Tailor marketing campaigns based on segment and time (for example, offering discounts to the consumer segment at the beginning of the year).\n",
    "- Improve the customer experience for the segment with the highest profitability to maintain loyalty.\n"
   ]
  },
  {
   "cell_type": "markdown",
   "id": "0cb2e093-72d9-4696-8606-6a48f8107654",
   "metadata": {},
   "source": [
    "## ===== Part Two: The relationship between the segment and geographical locations =====\n",
    "Are there clear geographic preferences for each customer segment? For example, is the \"Corporate\" segment more prevalent in certain states than the \"Consumer\" or \"Home Office\" segment? This type of analysis helps understand geographic differences and customize offers by segment and location."
   ]
  },
  {
   "cell_type": "markdown",
   "id": "d42875a0-f895-49a8-9dcb-ed1e6c4009b9",
   "metadata": {},
   "source": [
    "### ---- 📊Distribution of segments by region ----"
   ]
  },
  {
   "cell_type": "code",
   "execution_count": null,
   "id": "ebb64413-798c-4bb9-b480-6c1099133112",
   "metadata": {},
   "outputs": [],
   "source": [
    "plt.figure(figsize=(10, 6))\n",
    "sns.countplot(data=df, x='Region', hue='Segment', palette='Set2')\n",
    "plt.title('Distribution of segments by region')\n",
    "plt.xlabel('Region')\n",
    "plt.ylabel('Number of orders')\n",
    "plt.grid(axis='y', alpha=0.4)\n",
    "plt.legend(title='Segment')\n",
    "plt.show()"
   ]
  },
  {
   "cell_type": "markdown",
   "id": "4c571b6d-94a2-42a1-9730-f52e0433db96",
   "metadata": {},
   "source": [
    "### ---- 📊Distribution of segments by states (Top 10 only) ----"
   ]
  },
  {
   "cell_type": "code",
   "execution_count": null,
   "id": "0b404ffa-7d98-4f6f-be76-3338ea5a7ec7",
   "metadata": {},
   "outputs": [],
   "source": [
    "top_states = df['State'].value_counts().head(10).index\n",
    "plt.figure(figsize=(12, 6))\n",
    "sns.countplot(data=df[df['State'].isin(top_states)], x='State', hue='Segment', palette='Set3')\n",
    "plt.title('Distribution of segments in the top 10 states in terms of demand')\n",
    "plt.xlabel('State')\n",
    "plt.ylabel('Number of orders')\n",
    "plt.xticks(rotation=45)\n",
    "plt.grid(axis='y', alpha=0.4)\n",
    "plt.legend(title='Segment')\n",
    "plt.show()"
   ]
  },
  {
   "cell_type": "markdown",
   "id": "7ac7c432-4fca-4b1a-958e-ef5fec9627d9",
   "metadata": {},
   "source": [
    "### ---- 📊Distribution of segments by city (Top 10 only) ----"
   ]
  },
  {
   "cell_type": "code",
   "execution_count": null,
   "id": "bd050ad0-7b88-4777-8a83-f29020fe9c94",
   "metadata": {},
   "outputs": [],
   "source": [
    "top_cities = df['City'].value_counts().head(10).index\n",
    "plt.figure(figsize=(12, 6))\n",
    "sns.countplot(data=df[df['City'].isin(top_cities)], x='City', hue='Segment', palette='Pastel1')\n",
    "plt.title('Distribution of segments in the top 10 cities in demand')\n",
    "plt.xlabel('City')\n",
    "plt.ylabel('Number of orders')\n",
    "plt.xticks(rotation=45)\n",
    "plt.grid(axis='y')\n",
    "plt.legend(title='Segment')\n",
    "plt.show()"
   ]
  },
  {
   "cell_type": "markdown",
   "id": "e3e16770-abbf-471b-8c39-4d9dd5895574",
   "metadata": {},
   "source": [
    "#### 🕵️‍♂️ Conclusions\n",
    "\n",
    "- We note that the \"Consumer\" segment represents the largest segment in most geographic regions, indicating that it is the largest target market.\n",
    "- The \"Corporate\" segment has a significant presence in certain states, such as California and New York.\n",
    "- A city like Los Angeles, New York, shows a greater balance between the three segments, which may indicate demographic and business diversity."
   ]
  },
  {
   "cell_type": "markdown",
   "id": "e285e974-335d-489a-9f54-eb5abe27f65e",
   "metadata": {},
   "source": [
    "### ---- Average Profit and Sales Per Segment by Region ----\n",
    "This analysis shows which customer segments generate the highest average profit or sales within each region. This can help us make strategic decisions about focusing on specific segments in specific regions."
   ]
  },
  {
   "cell_type": "markdown",
   "id": "b291580d-d085-4157-89e8-74ee0fdc571e",
   "metadata": {},
   "source": [
    "### ---- 📊Average profit drawing ----"
   ]
  },
  {
   "cell_type": "code",
   "execution_count": null,
   "id": "502c7755-c204-4765-a132-248389948dfe",
   "metadata": {},
   "outputs": [],
   "source": [
    "# Collect data to calculate average profit and sales by segment and region.\n",
    "profit_sales_by_segment_region = df.groupby(['Region', 'Segment'])[['Sales', 'Profit']].mean().reset_index()\n",
    "\n",
    "plt.figure(figsize=(10, 6))\n",
    "sns.barplot(data=profit_sales_by_segment_region, x='Region', y='Profit', hue='Segment', palette='Set2')\n",
    "plt.title('Average profit per segment by region')\n",
    "plt.ylabel('Average profit')\n",
    "plt.grid(axis='y')\n",
    "plt.legend(title='Segment')\n",
    "plt.show()"
   ]
  },
  {
   "cell_type": "markdown",
   "id": "c78c9fc8-aeab-4648-b74f-b910868caf3f",
   "metadata": {},
   "source": [
    "### ---- 📊Average sales chart ----"
   ]
  },
  {
   "cell_type": "code",
   "execution_count": null,
   "id": "d95bd8f9-fb17-4961-81de-c6a25c3765d0",
   "metadata": {},
   "outputs": [],
   "source": [
    "plt.figure(figsize=(10, 6))\n",
    "sns.barplot(data=profit_sales_by_segment_region, x='Region', y='Sales', hue='Segment', palette='Set3')\n",
    "plt.title('Average sales per segment by region')\n",
    "plt.ylabel('Average sales')\n",
    "plt.grid(axis='y')\n",
    "plt.legend(title='Segment')\n",
    "plt.show()"
   ]
  },
  {
   "cell_type": "markdown",
   "id": "70e68b3e-82b7-45b6-8684-eae67fe89f06",
   "metadata": {},
   "source": [
    "#### 🕵️‍♂️ Conclusions\n",
    "\n",
    "In some regions, such as the West, the Corporate segment generates the highest average profit compared to the rest of the segments.\n",
    "\n",
    "While in the South, the Consumer segment may generate the highest sales but lower profits, indicating higher discounts or lower profit margins."
   ]
  },
  {
   "cell_type": "markdown",
   "id": "9bd369bf-4b5b-4b8a-84ea-cb4674a1db2c",
   "metadata": {},
   "source": [
    "## ===== Part Three: Relationship between segments, products, & categories ===== \n",
    "In this section, we focus on understanding how customer preferences for products and categories purchased vary across segments. This analysis helps us direct marketing, promotional, and inventory management strategies to suit each customer segment."
   ]
  },
  {
   "cell_type": "markdown",
   "id": "5441b0d0-b1c2-4ab9-8561-39fea04cb7bf",
   "metadata": {},
   "source": [
    "### ---- 📊Most purchased products per segment with profitability ----"
   ]
  },
  {
   "cell_type": "code",
   "execution_count": null,
   "id": "58939513-7dd3-4680-a42a-677460b805cc",
   "metadata": {},
   "outputs": [],
   "source": [
    "# Data collection by segment and product\n",
    "product_summary = df.groupby(['Segment', 'Product Name']) \\\n",
    "                    .agg({'Sales': 'sum',\n",
    "                          'Quantity': 'sum',\n",
    "                          'Profit': 'sum'}) \\\n",
    "                    .reset_index()\n",
    "\n",
    "# Calculate the profit margin for each product within each segment.\n",
    "product_summary['Profit Margin %'] = (product_summary['Profit'] / product_summary['Sales']) * 100\n",
    "\n",
    "# Show the top 10 products by sales for each segment.\n",
    "top_products_per_segment = product_summary.sort_values(['Segment', 'Sales'], ascending=[True, False]) \\\n",
    "                                          .groupby('Segment') \\\n",
    "                                          .head(10)\n",
    "\n",
    "plt.figure(figsize=(15,8))\n",
    "sns.barplot(data=top_products_per_segment, y='Product Name', x='Sales', hue='Segment')\n",
    "plt.title('Top 10 Products by Sales per Segment')\n",
    "plt.xlabel('Total sales')\n",
    "plt.ylabel('Product Name')\n",
    "plt.legend(title='Segment')\n",
    "plt.grid(True, linestyle='--', alpha=0.5)\n",
    "plt.show()"
   ]
  },
  {
   "cell_type": "markdown",
   "id": "933859da-3b8c-4b89-9b89-1e37ae32943a",
   "metadata": {},
   "source": [
    "#### 🕵️‍♂️ Insights:\n",
    "\n",
    "* Each segment has a distinct set of top-performing products, indicating varied preferences across customer groups.\n",
    "* **Consumer segment** features products with consistently high sales, showing strong market penetration.\n",
    "* Some products appear across multiple segments, suggesting they have broad appeal and could benefit from cross-segment promotions.\n",
    "* Understanding which products drive sales within each segment helps optimize inventory, marketing, and customer targeting strategies.\n"
   ]
  },
  {
   "cell_type": "markdown",
   "id": "755b221e-5db4-4f48-a738-92ca35262a88",
   "metadata": {},
   "source": [
    "### ---- 📊Relationship between the discount and sales for each segment ----"
   ]
  },
  {
   "cell_type": "code",
   "execution_count": null,
   "id": "e9a404fd-1cd1-468c-af64-26b2fa4d0483",
   "metadata": {},
   "outputs": [],
   "source": [
    "# Group sales by segment and discount\n",
    "discount_impact = df.groupby(['Segment', 'Discount']).agg({\n",
    "    'Sales': 'sum',\n",
    "    'Quantity': 'sum',\n",
    "    'Profit': 'sum'\n",
    "}).reset_index()\n",
    "\n",
    "# Graph the relationship between the discount and sales for each segment\n",
    "plt.figure(figsize=(14, 6))\n",
    "sns.lineplot(data=discount_impact, x='Discount', y='Sales', hue='Segment', marker='o')\n",
    "plt.title('Impact of discounts on sales by segment')\n",
    "plt.xlabel('نسبة الخصم')\n",
    "plt.ylabel('إجمالي المبيعات')\n",
    "plt.grid(True)\n",
    "plt.show()"
   ]
  },
  {
   "cell_type": "markdown",
   "id": "623bdb2b-123e-4e75-890a-f5c41ce2091d",
   "metadata": {},
   "source": [
    "#### 🕵️‍♂️ Conclusions\n",
    "Discount effectiveness differs by segment. Moderate discounts improve sales, but excessive discounts may not yield better results."
   ]
  },
  {
   "cell_type": "markdown",
   "id": "e795d64b-5e41-44d9-a543-28037fdf793e",
   "metadata": {},
   "source": [
    "### ---- 📊Relationship between segment and shipping method ----"
   ]
  },
  {
   "cell_type": "code",
   "execution_count": null,
   "id": "cea9e74c-8a14-4804-96d9-a6e9d6e44938",
   "metadata": {},
   "outputs": [],
   "source": [
    "shipping_pref = df.groupby(['Segment', 'Ship Mode']).agg({'Order ID': 'nunique'}).reset_index()\n",
    "shipping_pref.rename(columns={'Order ID': 'Order Count'}, inplace=True)\n",
    "\n",
    "plt.figure(figsize=(10,6))\n",
    "sns.barplot(data=shipping_pref, x='Segment', y='Order Count', hue='Ship Mode')\n",
    "plt.title('Relationship between segment and shipping method')\n",
    "plt.xlabel('Segment')\n",
    "plt.ylabel('Number of Orders')\n",
    "plt.legend(title='Ship Mode')\n",
    "plt.grid(True, linestyle='--', alpha=0.5)\n",
    "plt.show()"
   ]
  },
  {
   "cell_type": "markdown",
   "id": "162d32ae-eddd-4ed5-b447-04940f4a5d3f",
   "metadata": {},
   "source": [
    "#### 🕵️‍♂️ Conclusions\n",
    "Different segments show distinct shipping preferences. Standard shipping dominates, but premium options are preferred by some segments."
   ]
  },
  {
   "cell_type": "markdown",
   "id": "6ce709d0-658d-4332-9231-5629505058ed",
   "metadata": {},
   "source": [
    "### ---- 📊Average sales per segment by month ----"
   ]
  },
  {
   "cell_type": "code",
   "execution_count": null,
   "id": "f6f02595-dbd9-4ead-86f6-927d8e8d6c65",
   "metadata": {},
   "outputs": [],
   "source": [
    "avg_sales_segment_month = df.groupby(['Order Month', 'Segment'])['Sales'].mean().unstack()\n",
    "\n",
    "plt.figure(figsize=(14,6))\n",
    "sns.heatmap(avg_sales_segment_month, annot=True, fmt=\".0f\", cmap='YlGnBu')\n",
    "plt.title('Average sales per segment by month ')\n",
    "plt.xlabel('Segment')\n",
    "plt.ylabel('Order Month')\n",
    "plt.show()"
   ]
  },
  {
   "cell_type": "markdown",
   "id": "cbe9f0ce-3a52-4166-bd49-b11cb218cf85",
   "metadata": {},
   "source": [
    "#### 🕵️‍♂️ Conclusions\n",
    "\n",
    "- The graphs show clear differences in the timing of orders between different segments, with some segments tending to purchase more during certain months.\n",
    "- Categories and products vary in demand over time, reflecting that some products are seasonal or associated with specific periods.\n",
    "- Demand across geographic areas varies monthly, indicating local or seasonal factors that influence purchasing behavior.\n",
    "- Average sales per segment indicate which months are most profitable for each customer segment.\n"
   ]
  },
  {
   "cell_type": "markdown",
   "id": "6e9cefc3-1bde-4da8-b532-b609aebd5890",
   "metadata": {},
   "source": [
    "### ---- 📊Heatmap of Total Sales by Region and Product Category ----"
   ]
  },
  {
   "cell_type": "code",
   "execution_count": null,
   "id": "51248bff-14cb-45bf-ab03-f409750e3820",
   "metadata": {},
   "outputs": [],
   "source": [
    "# Pivot table: total sales by Region and Category\n",
    "pivot_region_category = df.pivot_table(index='Region', columns='Category', values='Sales', aggfunc='sum')\n",
    "\n",
    "plt.figure(figsize=(10, 7))\n",
    "sns.heatmap(pivot_region_category, annot=True, fmt='.0f', cmap='YlGnBu')\n",
    "plt.title('Heatmap of Sales by Region and Category')\n",
    "plt.xlabel('Category')\n",
    "plt.ylabel('Region')\n",
    "plt.tight_layout()\n",
    "plt.show()"
   ]
  },
  {
   "cell_type": "markdown",
   "id": "ad24d53d-155c-4a29-a66d-bb54ec59e1db",
   "metadata": {},
   "source": [
    "#### 🕵️‍♂️ Conclusions \n",
    "\n",
    "This heatmap shows the total sales distribution across different regions and product categories.\n",
    "\n",
    "The West and East regions lead in overall sales, particularly in the Technology and Office Supplies categories.\n",
    "\n",
    "Furniture performs relatively better in the South and Central regions than Technology.\n",
    "\n",
    "Technology sales are notably strong in the West region.\n",
    "These insights suggest tailoring product offerings and promotions by region—for example, focusing more on Technology in the West and Furniture in the South.\n"
   ]
  },
  {
   "cell_type": "markdown",
   "id": "27f35809-9c5f-4c76-abd8-17708b7eea65",
   "metadata": {},
   "source": [
    "### ---- 📊Interactive Choropleth Map: Order Distribution by Segment and State ----\n",
    "The interactive map displays the number of applications for each segment in each state, allowing us to visualize where different segments are concentrated in the United States."
   ]
  },
  {
   "cell_type": "code",
   "execution_count": null,
   "id": "5d2864dc-0000-4443-a965-6915e59d916f",
   "metadata": {},
   "outputs": [],
   "source": [
    "# Map converting state names to their abbreviated codes\n",
    "state_abbrev = {\n",
    "    'Alabama': 'AL', 'Alaska': 'AK', 'Arizona': 'AZ', 'Arkansas': 'AR', 'California': 'CA',\n",
    "    'Colorado': 'CO', 'Connecticut': 'CT', 'Delaware': 'DE', 'District of Columbia': 'DC',\n",
    "    'Florida': 'FL', 'Georgia': 'GA', 'Hawaii': 'HI', 'Idaho': 'ID', 'Illinois': 'IL',\n",
    "    'Indiana': 'IN', 'Iowa': 'IA', 'Kansas': 'KS', 'Kentucky': 'KY', 'Louisiana': 'LA',\n",
    "    'Maine': 'ME', 'Maryland': 'MD', 'Massachusetts': 'MA', 'Michigan': 'MI', 'Minnesota': 'MN',\n",
    "    'Mississippi': 'MS', 'Missouri': 'MO', 'Montana': 'MT', 'Nebraska': 'NE', 'Nevada': 'NV',\n",
    "    'New Hampshire': 'NH', 'New Jersey': 'NJ', 'New Mexico': 'NM', 'New York': 'NY',\n",
    "    'North Carolina': 'NC', 'North Dakota': 'ND', 'Ohio': 'OH', 'Oklahoma': 'OK', 'Oregon': 'OR',\n",
    "    'Pennsylvania': 'PA', 'Rhode Island': 'RI', 'South Carolina': 'SC', 'South Dakota': 'SD',\n",
    "    'Tennessee': 'TN', 'Texas': 'TX', 'Utah': 'UT', 'Vermont': 'VT', 'Virginia': 'VA',\n",
    "    'Washington': 'WA', 'West Virginia': 'WV', 'Wisconsin': 'WI', 'Wyoming': 'WY'\n",
    "}\n",
    "\n",
    "# Calculate the number of orders for each segment in each state\n",
    "orders_by_state_segment = df.groupby(['State', 'Segment'])['Order ID'].nunique().reset_index()\n",
    "orders_by_state_segment.columns = ['State', 'Segment', 'Order Count']\n",
    "\n",
    "# Add short state code\n",
    "orders_by_state_segment['State Code'] = orders_by_state_segment['State'].map(state_abbrev)\n",
    "\n",
    "# Delete rows for which no symbol was found\n",
    "orders_by_state_segment.dropna(subset=['State Code'], inplace=True)\n",
    "\n",
    "# Interactive map drawing\n",
    "fig = px.choropleth(\n",
    "    orders_by_state_segment,\n",
    "    locations='State Code',\n",
    "    locationmode='USA-states',\n",
    "    color='Order Count',\n",
    "    scope='usa',\n",
    "    animation_frame='Segment',\n",
    "    hover_name='State',\n",
    "    labels={'Order Count': 'Number of orders'},\n",
    "    color_continuous_scale='Viridis',\n",
    "    title='Distribution of the number of orders by segment in each state (interactive)'\n",
    ")\n",
    "\n",
    "fig.update_layout(geo=dict(bgcolor='rgba(0,0,0,0)'), title_x=0.5)\n",
    "fig.show()"
   ]
  },
  {
   "cell_type": "markdown",
   "id": "a72a6028-1046-44b2-81d4-b9486287bcd3",
   "metadata": {},
   "source": [
    "#### 🕵️‍♂️ Insight:\n",
    "\n",
    "The interactive map reveals geographic differences in order distribution across customer segments.\n",
    "\n",
    "States like California, New York, and Texas show high order volumes across all segments, indicating strong market presence and customer engagement.\n",
    "\n",
    "Less populated or rural states, especially in the Midwest, show lower volumes—particularly in the Corporate segment.\n",
    "\n",
    "The animation by segment highlights regional preferences for different customer types, such as more Consumer and Home Office activity in the West and East coasts.\n",
    "This visualization supports region-specific marketing and expansion strategies, helping businesses align their offerings with geographic demand patterns.\n",
    "\n"
   ]
  },
  {
   "cell_type": "markdown",
   "id": "0a59bdf1-c2c7-4385-8a7a-f961cfd723e9",
   "metadata": {},
   "source": [
    "# 🔍 *Geographical analysis*"
   ]
  },
  {
   "cell_type": "markdown",
   "id": "fca9e5c4-9f02-45a8-97d6-2412b076e856",
   "metadata": {},
   "source": [
    "### ---- 📊Top 10 cities by sales ----"
   ]
  },
  {
   "cell_type": "code",
   "execution_count": null,
   "id": "cdbe9b53-e1e6-4342-8214-12c66aa52231",
   "metadata": {},
   "outputs": [],
   "source": [
    "# Group data by country, region, state, and city\n",
    "region_perf = df.groupby('Region').agg({\n",
    "    'Order ID': 'nunique',\n",
    "    'Sales': 'sum',\n",
    "    'Profit': 'sum',\n",
    "    'Quantity': 'mean',\n",
    "    'Discount': 'mean'\n",
    "}).reset_index()\n",
    "\n",
    "region_perf.columns = ['Region', 'Order Count', 'Total Sales', 'Total Profit', 'Avg Quantity', 'Avg Discount']\n",
    "\n",
    "region_perf = df.groupby(['Country', 'Region', 'State', 'City'])[['Sales', 'Profit']].sum().reset_index()\n",
    "\n",
    "# Top 10 cities by sales\n",
    "top_sales_cities = region_perf.sort_values(by='Sales', ascending=False).head(10)\n",
    "plt.figure(figsize=(12, 6))\n",
    "sns.barplot(data=top_sales_cities, y='City', x='Sales', hue='Sales', palette='Blues_d')\n",
    "plt.title('Top 10 cities by sales')\n",
    "plt.xlabel('Total Sales')\n",
    "plt.ylabel('City')\n",
    "plt.grid(True, linestyle='--', alpha=0.3)\n",
    "plt.show()"
   ]
  },
  {
   "cell_type": "markdown",
   "id": "d1121500-3317-4885-8791-f858d7215dbb",
   "metadata": {},
   "source": [
    "#### 🕵️‍♂️ Conclusions \n",
    "The top 10 cities by sales contribute significantly to the overall revenue, indicating strong local market presence. Targeting marketing and inventory strategies in these high-performing cities could enhance profitability and customer engagement further.\n"
   ]
  },
  {
   "cell_type": "markdown",
   "id": "f0d8b7d5-87e6-4aa6-aee6-a9f82105397e",
   "metadata": {},
   "source": [
    "### ---- 📊Top-Profitable States ----"
   ]
  },
  {
   "cell_type": "code",
   "execution_count": null,
   "id": "04b4bfef-37bf-4c88-a14b-bb3357d83bde",
   "metadata": {},
   "outputs": [],
   "source": [
    "top_profit_states = region_perf.groupby('State').sum(numeric_only=True).sort_values('Profit', ascending=False).head(10)\n",
    "plt.figure(figsize=(12, 6))\n",
    "sns.barplot(x=top_profit_states['Profit'], y=top_profit_states.index, hue=top_profit_states['Profit'], palette='Greens_d')\n",
    "plt.title('Top 10 states by profit')\n",
    "plt.xlabel('Total Profit')\n",
    "plt.ylabel('State')\n",
    "plt.grid(True, linestyle='--', alpha=0.3)\n",
    "plt.show()"
   ]
  },
  {
   "cell_type": "markdown",
   "id": "009236e5-b251-49bf-908e-983e8676610a",
   "metadata": {},
   "source": [
    "#### 🕵️‍♂️ Conclusions \n",
    "The top 10 most profitable states significantly impact the overall business profitability. These states likely have a healthy balance of sales volume and efficient cost management. Focusing on maintaining and expanding operations in these regions could further boost profit margins."
   ]
  },
  {
   "cell_type": "markdown",
   "id": "5417a8e8-dd66-4cd3-9d77-75ad46e3c002",
   "metadata": {},
   "source": [
    "### ---- 📊Distribution of Quantity by Region ----"
   ]
  },
  {
   "cell_type": "code",
   "execution_count": null,
   "id": "c00a6dfe-d28f-4605-bf40-5713d68dbc9c",
   "metadata": {},
   "outputs": [],
   "source": [
    "plt.figure(figsize=(10, 6))\n",
    "sns.boxenplot(data=df, x='Region', y='Quantity', hue='Region', palette='Set2')\n",
    "plt.title('Quantity distribution analysis by region')\n",
    "plt.ylabel('Quantity')\n",
    "plt.xlabel('Region')\n",
    "plt.grid(axis='y')\n",
    "plt.show()"
   ]
  },
  {
   "cell_type": "markdown",
   "id": "ada5234b-6084-4cdf-a292-c79652bf06fd",
   "metadata": {},
   "source": [
    "### ---- 📊Interactive Bubble Plot: Sales vs Quantity by Region with Profit Size ----\n",
    "\n",
    "This interactive scatter plot visualizes the relationship between total quantity and total sales across different regions. The bubble size represents the total profit, giving an intuitive view of overall regional performance.\n"
   ]
  },
  {
   "cell_type": "code",
   "execution_count": null,
   "id": "afcb0177-3e6b-468c-9f70-a7c1d2b267ba",
   "metadata": {},
   "outputs": [],
   "source": [
    "# Summary data for each region\n",
    "region_summary = df.groupby('Region').agg({\n",
    "    'Sales': 'sum',\n",
    "    'Quantity': 'sum',\n",
    "    'Profit': 'sum'\n",
    "}).reset_index()\n",
    "\n",
    "# Interactive bubble plot\n",
    "fig = px.scatter(\n",
    "    region_summary,\n",
    "    x='Quantity',\n",
    "    y='Sales',\n",
    "    size='Profit',\n",
    "    color='Region',\n",
    "    hover_name='Region',\n",
    "    title='Relationship between Quantity and Sales by Region (Bubble Size = Profit)',\n",
    "    labels={'Sales': 'Total Sales', 'Quantity': 'Total Quantity'}\n",
    ")\n",
    "fig.show()"
   ]
  },
  {
   "cell_type": "markdown",
   "id": "25ed791e-608b-4354-ae0b-c53f3c63e6ff",
   "metadata": {},
   "source": [
    "#### 🕵️‍♂️ Insights:\n",
    "\n",
    "- Regions like **West** and **East** exhibit higher total sales and quantities, along with larger profit bubbles, suggesting they are the most commercially successful regions.\n",
    "- **Central** shows moderate sales but relatively smaller profits, which may indicate lower profit margins.\n",
    "- **South** has the smallest bubble, indicating lower sales and profits, possibly suggesting an opportunity for growth or underperformance.\n",
    "- The plot helps identify efficient regions (high profit with lower quantity) vs. volume-driven regions (high quantity but low margin).\n"
   ]
  },
  {
   "cell_type": "markdown",
   "id": "6b96f9f5-78d9-497d-b03f-642165b5a4b2",
   "metadata": {},
   "source": [
    "### ---- 📊Distribution of Shipping Methods by Region ----\n",
    "This count plot displays the number of orders using each shipping method across different regions. It helps understand how logistics strategies vary by region."
   ]
  },
  {
   "cell_type": "code",
   "execution_count": null,
   "id": "08f01afb-ef15-48b3-addb-7617b5f79bc1",
   "metadata": {},
   "outputs": [],
   "source": [
    "plt.figure(figsize=(10, 6))\n",
    "sns.countplot(data=df, x='Region', hue='Ship Mode')\n",
    "plt.title('Shipping Methods Distribution by Region')\n",
    "plt.xlabel('Region')\n",
    "plt.ylabel('Number of Orders')\n",
    "plt.grid(axis='y')\n",
    "plt.tight_layout()\n",
    "plt.show()"
   ]
  },
  {
   "cell_type": "markdown",
   "id": "2e588d8e-6c3d-480b-b637-a1dc5989dd9f",
   "metadata": {},
   "source": [
    "#### 🕵️‍♂️ Insights:\n",
    "- **Standard Class** dominates as the most used shipping method in all regions, indicating it is the default or preferred option.\n",
    "- **Same Day** shipping is rarely used and appears mostly in highly urbanized regions like the **West**.\n",
    "- **First Class** is more common in the **West** and **East**, suggesting a higher demand or capability for faster deliveries.\n",
    "- The **Central** region has the lowest usage of **Same Day** and **First Class**, possibly due to infrastructure or demand factors."
   ]
  },
  {
   "cell_type": "markdown",
   "id": "42af33e4-d8be-460b-81eb-8e533d858e81",
   "metadata": {},
   "source": [
    "### ---- 📊Shipping Delay Analysis by Region ----\n",
    "This plot visualizes the number of orders per region separated by delay status, where delayed shipments are defined as those with shipping delay exceeding the median value."
   ]
  },
  {
   "cell_type": "code",
   "execution_count": null,
   "id": "dbbfe56c-ec3b-4327-9845-d69b82a3793e",
   "metadata": {},
   "outputs": [],
   "source": [
    "# Define delayed shipments: Shipping Delay greater than median shipping delay\n",
    "median_delay = df['Shipping Delay'].median()\n",
    "df['Delayed'] = df['Shipping Delay'] > median_delay\n",
    "\n",
    "# Plot countplot of orders by region colored by delay status\n",
    "plt.figure(figsize=(10, 6))\n",
    "sns.countplot(data=df, x='Region', hue='Delayed', palette='Set1')\n",
    "plt.title('Count of Orders by Region and Delay Status')\n",
    "plt.xlabel('Region')\n",
    "plt.ylabel('Number of Orders')\n",
    "plt.grid(axis='y', alpha=0.3)\n",
    "plt.tight_layout()\n",
    "plt.show()"
   ]
  },
  {
   "cell_type": "markdown",
   "id": "bed1b6f0-1f7e-4a52-b922-637614af1ffc",
   "metadata": {},
   "source": [
    "#### 🕵️‍♂️ Insights:\n",
    "\n",
    "- The plot highlights regions with higher counts of delayed shipments, suggesting potential logistical or operational bottlenecks in these areas.\n",
    "- Regions with larger shares of delayed orders may benefit from focused process improvements or enhanced shipping strategies.\n",
    "- Combining delay data with shipping mode and other variables could reveal more precise causes and solutions for delays.\n"
   ]
  },
  {
   "cell_type": "markdown",
   "id": "e01a09e7-8060-4547-937c-ddef99fcd622",
   "metadata": {},
   "source": [
    "### ---- 📊Closest Warehouse Location Estimation Based on Average Shipping Delay ----\n",
    "This analysis estimates the most probable warehouse location by identifying the state with the shortest average shipping delay. The interactive map visualizes average shipping delays across states, aiding spatial understanding of shipping efficiency."
   ]
  },
  {
   "cell_type": "code",
   "execution_count": null,
   "id": "3f4e5a44-9e40-4b4b-8e9d-5a32f86c8a82",
   "metadata": {},
   "outputs": [],
   "source": [
    "# Calculate shipping delay in days (ensure 'Order Date' and 'Ship Date' are datetime)\n",
    "df['Shipping Delay (Days)'] = (df['Ship Date'] - df['Order Date']).dt.days\n",
    "\n",
    "# Calculate average shipping delay per state\n",
    "state_shipping = df.groupby('State')['Shipping Delay (Days)'].mean().reset_index()\n",
    "state_shipping.columns = ['State', 'Avg Shipping Delay']\n",
    "\n",
    "# Approximate latitude and longitude for selected US states\n",
    "us_states_coords = pd.DataFrame({\n",
    "    'State': [\"California\", \"New York\", \"Texas\", \"Illinois\", \"Washington\", \"Florida\", \"Pennsylvania\", \"Ohio\", \"Colorado\", \"Georgia\"],\n",
    "    'Latitude': [36.7783, 40.7128, 31.9686, 40.6331, 47.7511, 27.9944, 41.2033, 40.4173, 39.5501, 32.1656],\n",
    "    'Longitude': [-119.4179, -74.0060, -99.9018, -89.3985, -120.7401, -81.7603, -77.1945, -82.9071, -105.7821, -82.9001]\n",
    "})\n",
    "\n",
    "# Merge average delay data with state coordinates\n",
    "merged = pd.merge(state_shipping, us_states_coords, on='State', how='left')\n",
    "\n",
    "# Drop states without coordinates\n",
    "merged = merged.dropna(subset=['Latitude', 'Longitude'])\n",
    "\n",
    "# Identify the closest city (state with minimum average shipping delay)\n",
    "closest_city = merged.loc[merged['Avg Shipping Delay'].idxmin()]\n",
    "print(\"\\n Closest probable warehouse location: \")\n",
    "print(f\"- {closest_city['State']} (Average Delay: {closest_city['Avg Shipping Delay']:.2f} days)\")\n",
    "\n",
    "# Interactive map showing average shipping delay by state\n",
    "fig = px.scatter_geo(\n",
    "    merged,\n",
    "    lat='Latitude',\n",
    "    lon='Longitude',\n",
    "    color='Avg Shipping Delay',\n",
    "    text='State',\n",
    "    size='Avg Shipping Delay',\n",
    "    color_continuous_scale='YlOrRd_r',\n",
    "    scope='usa',\n",
    "    title='Average Shipping Delay by State (Closest indicates warehouse location)'\n",
    ")\n",
    "fig.update_layout(geo=dict(projection_scale=3.5, center={\"lat\": 37.5, \"lon\": -95}))\n",
    "fig.show()\n"
   ]
  },
  {
   "cell_type": "markdown",
   "id": "080492b4-06e2-47d5-9166-a07f83036db7",
   "metadata": {},
   "source": [
    "#### 🕵️‍♂️ Insights:\n",
    "\n",
    "The analysis estimates the probable store location by identifying the state with the shortest average shipping delay. This approach assumes that shipments originating closer to the store will have shorter delivery times. According to the results, the state with the lowest average shipping delay is most likely to house the store or main distribution center.\n",
    "\n",
    "However, this inference should be interpreted cautiously. Shipping delay depends on multiple factors beyond geographic proximity, such as logistics infrastructure, shipping methods, order volume, and carrier networks. Therefore, while the identified state is a strong candidate for the store location, it is not definitive proof.\n",
    "\n",
    "This method serves as an initial exploratory step to narrow down potential locations, which can be further refined by integrating additional operational and logistic data.\n"
   ]
  },
  {
   "cell_type": "markdown",
   "id": "a179851e-e76e-45ce-b7ce-976949be76ea",
   "metadata": {},
   "source": [
    "### ---- 📊Standard Deviation of Shipping Delay by State ----"
   ]
  },
  {
   "cell_type": "code",
   "execution_count": null,
   "id": "759a5859-2aa2-40c9-83df-35e3282221e3",
   "metadata": {},
   "outputs": [],
   "source": [
    "# Calculate mean and std deviation of shipping delay per state\n",
    "state_stats = df.groupby('State')['Shipping Delay'].agg(['mean', 'std']).sort_values('mean')\n",
    "\n",
    "plt.figure(figsize=(12, 6))\n",
    "sns.barplot(data=state_stats.reset_index(), x='State', y='std', hue='State', palette='coolwarm')\n",
    "plt.xticks(rotation=90)\n",
    "plt.title('Standard Deviation of Shipping Delay by State')\n",
    "plt.ylabel('Standard Deviation (Days)')\n",
    "plt.xlabel('State')\n",
    "plt.grid(axis='y')\n",
    "plt.tight_layout()\n",
    "plt.show()\n"
   ]
  },
  {
   "cell_type": "markdown",
   "id": "7c43ba01-d89d-47df-bfee-dbc3fdd8c216",
   "metadata": {},
   "source": [
    "### ---- 📊Category Distribution Across Regions ----"
   ]
  },
  {
   "cell_type": "code",
   "execution_count": null,
   "id": "baa23dcd-cb11-43e5-8d25-bfa356a2d750",
   "metadata": {},
   "outputs": [],
   "source": [
    "# Count of orders per category in each region\n",
    "category_region = df.groupby(['Region', 'Category']).size().reset_index(name='Count')\n",
    "\n",
    "# Create stacked bar chart using Plotly\n",
    "fig = px.bar(\n",
    "    category_region,\n",
    "    x='Region',\n",
    "    y='Count',\n",
    "    color='Category',\n",
    "    title='Category Distribution by Region',\n",
    "    barmode='stack',\n",
    "    text='Count'\n",
    ")\n",
    "\n",
    "fig.update_traces(textposition='inside')\n",
    "fig.update_layout(xaxis_title='Region', yaxis_title='Count')\n",
    "fig.show()\n"
   ]
  },
  {
   "cell_type": "markdown",
   "id": "cf84b64b-6a61-487d-bce7-886246020137",
   "metadata": {},
   "source": [
    "# 🔍 *Analysis by Product*"
   ]
  },
  {
   "cell_type": "markdown",
   "id": "a55b1a93-ccbc-43bd-a252-67d501aa0095",
   "metadata": {},
   "source": [
    "### ---- 📊Top 15 Best-Selling Products Analysis ----"
   ]
  },
  {
   "cell_type": "code",
   "execution_count": null,
   "id": "39e79ac0-9352-45cb-b51c-2e7c0973aa70",
   "metadata": {},
   "outputs": [],
   "source": [
    "top_products = df.groupby('Product Name').agg({\n",
    "    'Sales': 'sum',\n",
    "    'Profit': 'sum',\n",
    "    'Quantity': 'sum',\n",
    "    'Profit Margin': 'mean',\n",
    "    'Unit Price': 'mean'\n",
    "}).sort_values(by='Sales', ascending=False).head(15).reset_index()\n",
    "\n",
    "plt.figure(figsize=(12, 6))\n",
    "sns.barplot(data=top_products, y='Product Name', x='Sales', hue='Sales', palette='Blues_d')\n",
    "plt.title('Top 15 Best-Selling Products')\n",
    "plt.xlabel('Total Sales')\n",
    "plt.ylabel('Product Name')\n",
    "plt.grid(True, linestyle='--', alpha=0.5)\n",
    "plt.tight_layout()\n",
    "plt.show()\n"
   ]
  },
  {
   "cell_type": "markdown",
   "id": "4a090a4c-3431-40ee-abbd-12dea13d117e",
   "metadata": {},
   "source": [
    "#### 🕵️‍♂️ Insights:\n",
    "“When you have eliminated the impossible, whatever remains, however improbable, must be the truth.”\n",
    "\n",
    "High sales ≠ High profitability\n",
    "A product that dominates the sales chart might still suffer from poor profit margins. Sales alone can be misleading if not balanced with profitability metrics.\n",
    "\n",
    "Product concentration may be risky\n",
    "A heavy dependence on a few products for revenue introduces vulnerability. A sudden dip in any of these products’ performance could ripple across the business.\n",
    "\n",
    "Unit price and volume trade-off\n",
    "Some top-selling products might be priced low and rely on high volume. This can work—but only if operational costs remain controlled.\n",
    "\n",
    "Room for strategic repricing or bundling\n",
    "If a top-selling item has low profit margins, it might benefit from price optimization or being part of a value bundle to boost profitability.\n"
   ]
  },
  {
   "cell_type": "markdown",
   "id": "1018015c-a469-4c49-9025-363e8b0c33c4",
   "metadata": {},
   "source": [
    "### ---- 📊Comparative Analysis: Top-Selling vs. Top-Profitable Products ----"
   ]
  },
  {
   "cell_type": "code",
   "execution_count": null,
   "id": "d5abc985-bb15-4dbc-9f7f-e17571a64cd0",
   "metadata": {},
   "outputs": [],
   "source": [
    "plt.style.use('seaborn-v0_8-whitegrid')\n",
    "sns.set_palette('Set2')\n",
    "\n",
    "top_sales = df.groupby('Product Name')[\"Sales\"].sum().sort_values(ascending=False).head(10)\n",
    "top_profit = df.groupby('Product Name')[\"Profit\"].sum().sort_values(ascending=False).head(10)\n",
    "\n",
    "fig, axes = plt.subplots(1, 2, figsize=(16, 6))\n",
    "\n",
    "sns.barplot(x=top_sales.values, y=top_sales.index, ax=axes[0])\n",
    "axes[0].set_title('Top Selling Products')\n",
    "axes[0].set_xlabel('Total Sales')\n",
    "\n",
    "sns.barplot(x=top_profit.values, y=top_profit.index, ax=axes[1])\n",
    "axes[1].set_title('Top Profitable Products')\n",
    "axes[1].set_xlabel('Total Profit')\n",
    "\n",
    "plt.tight_layout()\n",
    "plt.show()"
   ]
  },
  {
   "cell_type": "markdown",
   "id": "6614f768-e605-4316-98db-22f86d0d469a",
   "metadata": {},
   "source": [
    "#### 🕵️‍♂️ Insights:\n",
    "“The curious case is not in what is visible to the naked eye, but in the absence of overlap between success and profitability.”\n",
    "\n",
    "Not all that sells is gold.\n",
    "A product may dominate in total revenue but not appear among the most profitable — revealing high costs or deep discounting strategies.\n",
    "\n",
    "Profit leaders are often stealthy.\n",
    "Some products with modest sales volumes yield significantly higher profit margins, suggesting they may be premium or cost-efficient.\n",
    "\n",
    "Operational mystery: margin leakages.\n",
    "When top-selling products fail to generate matching profits, it’s a signal to investigate cost structures, shipping overhead, or post-sale services.\n",
    "\n",
    "Strategic clarity lies in contrast.\n",
    "This dual-panel view helps distinguish between volume-driven and margin-driven success, enabling better product strategy and portfolio alignment.\n",
    "\n",
    "“What one must notice is not merely what products are present, but which ones are conspicuously absent between the charts. That, my friend, is where the game begins.”"
   ]
  },
  {
   "cell_type": "markdown",
   "id": "07d06f7d-fbc6-42c4-89d0-2702052c85bc",
   "metadata": {},
   "source": [
    "### ---- 📊Regional Leaders: Top 3 Products by Quantity Sold in Each Region ----"
   ]
  },
  {
   "cell_type": "code",
   "execution_count": null,
   "id": "e95ef2ff-110e-4317-8077-af9888ba059e",
   "metadata": {},
   "outputs": [],
   "source": [
    "region_product = df.groupby(['Region', 'Product Name'])['Quantity'].sum().reset_index()\n",
    "top_products_region = region_product.sort_values(['Region', 'Quantity'], ascending=[True, False]).groupby('Region').head(3)\n",
    "\n",
    "plt.figure(figsize=(14, 6))\n",
    "sns.barplot(data=top_products_region, x='Region', y='Quantity', hue='Product Name')\n",
    "plt.title('Top 3 Products by Quantity Sold per Region')\n",
    "plt.ylabel('Total Quantity')\n",
    "plt.xlabel('Region')\n",
    "plt.legend(title='Product Name')\n",
    "plt.show()"
   ]
  },
  {
   "cell_type": "markdown",
   "id": "d6a07fbd-977d-4aa9-9d7c-a8fbcab5e825",
   "metadata": {},
   "source": [
    "#### 🕵️‍♂️ Insights:\n",
    "“When investigating regional behavior, one must always ask not what is common everywhere — but what is exceptionally common somewhere.”\n",
    "\n",
    "Regional preferences are not uniform.\n",
    "The top 3 best-selling products vary significantly across regions, suggesting that customer needs and priorities shift with geography.\n",
    "\n",
    "Product success is context-bound.\n",
    "A product that dominates in one region may not even appear in another — pointing to the influence of local demographics, climates, or supply chains.\n",
    "\n",
    "A mirror of demand hotspots.\n",
    "The visualization acts as a magnifying glass to uncover which products form the cornerstone of regional sales — essential for tailored marketing or logistics.\n",
    "\n",
    "Strategic implication: regional specialization.\n",
    "Optimizing stock, promotions, and delivery routes around these high-demand products can reduce costs and boost regional performance.\n",
    "\n",
    "“It is elementary: the product most favored by each land whispers the tale of its people — their habits, their lifestyle, their needs.”"
   ]
  },
  {
   "cell_type": "markdown",
   "id": "f57f2ad0-909c-434f-adee-c4f3f939dcc6",
   "metadata": {},
   "source": [
    "### ---- 📊Evolution of Sales Volume Over Time for Top 5 Products ----"
   ]
  },
  {
   "cell_type": "code",
   "execution_count": null,
   "id": "357511c5-fbd7-487b-b37b-8ed7707b92cb",
   "metadata": {},
   "outputs": [],
   "source": [
    "# Aggregate total quantity sold per product over time\n",
    "product_quantity_over_time = df.groupby(['Order Date', 'Product Name'])['Quantity'].sum().reset_index()\n",
    "\n",
    "# Select top 5 most frequently sold products\n",
    "top_products = df['Product Name'].value_counts().nlargest(5).index\n",
    "filtered_data = product_quantity_over_time[product_quantity_over_time['Product Name'].isin(top_products)]\n",
    "\n",
    "# Plot line chart showing quantity trends over time\n",
    "plt.figure(figsize=(14, 7))\n",
    "sns.lineplot(data=filtered_data, x='Order Date', y='Quantity', hue='Product Name')\n",
    "plt.title('Total Quantity Sold Over Time for Top 5 Products')\n",
    "plt.xlabel('Order Date')\n",
    "plt.ylabel('Quantity Sold')\n",
    "plt.legend(title='Product Name')\n",
    "plt.grid(True, linestyle='--', alpha=0.6)\n",
    "plt.tight_layout()\n",
    "plt.show()"
   ]
  },
  {
   "cell_type": "markdown",
   "id": "3f3dffba-f376-46c2-936a-d3bf8569b693",
   "metadata": {},
   "source": [
    "#### 🕵️‍♂️ Insights:\n",
    "Demand is not static; it evolves.\n",
    "The sales quantity of the top 5 products fluctuates visibly across time, indicating seasonality or periodic spikes driven by marketing, holidays, or external events.\n",
    "\n",
    "Temporal patterns reveal strategy.\n",
    "Peaks in demand for certain products suggest critical sales periods — valuable information for inventory planning and targeted promotions.\n",
    "\n",
    "Each product tells a story.\n",
    "While some maintain consistent demand, others show bursts — outliers that may signal successful campaigns or urgent market needs.\n",
    "\n",
    "The unexpected must not be ignored.\n",
    "A sudden drop or surge can be a clue — either a success to replicate or a problem to solve.\n",
    "\n",
    "“The secret to foresight lies in understanding the rhythms of the past.”"
   ]
  },
  {
   "cell_type": "markdown",
   "id": "7996ff79-6e90-405a-bd4c-324affc8dc75",
   "metadata": {},
   "source": [
    "### ---- 📊Sales Trends of the Top 10 Products Over Time ----"
   ]
  },
  {
   "cell_type": "code",
   "execution_count": null,
   "id": "644df1bb-1553-4791-ab42-2fb155bb1238",
   "metadata": {},
   "outputs": [],
   "source": [
    "# Select top 10 best-selling products based on total sales\n",
    "top_products = df.groupby('Product Name')['Sales'].sum().nlargest(10).index\n",
    "\n",
    "# Filter the dataset for only these products\n",
    "filtered_df = df[df['Product Name'].isin(top_products)]\n",
    "\n",
    "# Group sales by product and order date\n",
    "sales_trend = filtered_df.groupby(['Order Date', 'Product Name'])['Sales'].sum().reset_index()\n",
    "\n",
    "# Plot the sales trends over time for top-selling products\n",
    "plt.figure(figsize=(14, 7))\n",
    "sns.lineplot(data=sales_trend, x='Order Date', y='Sales', hue='Product Name')\n",
    "plt.title('Sales Trends Over Time for Top 10 Best-Selling Products')\n",
    "plt.xlabel('Order Date')\n",
    "plt.ylabel('Total Sales')\n",
    "plt.legend(title='Product Name', bbox_to_anchor=(1.05, 1), loc='upper left')\n",
    "plt.grid(True, linestyle='--', alpha=0.6)\n",
    "plt.tight_layout()\n",
    "plt.show()"
   ]
  },
  {
   "cell_type": "markdown",
   "id": "87cd9fdd-bd07-4c1c-8848-7491e548ccdf",
   "metadata": {},
   "source": [
    "#### 🕵️‍♂️ Insights:\n",
    "The chart reveals not just what sells the most, but when it sells.\n",
    "This temporal insight is critical for demand forecasting, promotional planning, and stock management.\n",
    "\n",
    "Some products show consistent popularity over time, while others demonstrate sharp spikes.\n",
    "These spikes might indicate successful short-term promotions or seasonal demand.\n",
    "\n",
    "Tracking monetary sales rather than quantity provides a revenue-centric view.\n",
    "High sales might come from fewer units with high unit prices, or large volumes with lower prices.\n",
    "\n",
    "This time-series view bridges tactical decisions (daily sales) with strategic planning (long-term growth).\n",
    "\n",
    "\"Data doesn't just tell us what happened — it whispers why it happened, if we care to listen closely.\"\n"
   ]
  },
  {
   "cell_type": "markdown",
   "id": "bcdbfc35-5d5e-46ef-aa10-532d7feb5e6d",
   "metadata": {},
   "source": [
    "# 🔍 *Analysis by Shipping Mode*"
   ]
  },
  {
   "cell_type": "markdown",
   "id": "f60c2cd3-c8b4-475e-9532-9b49962a73dc",
   "metadata": {},
   "source": [
    "### ---- 📊Most Frequently Used Shipping Method ----"
   ]
  },
  {
   "cell_type": "code",
   "execution_count": null,
   "id": "9d52958c-9d92-489c-876f-80f7a40bd136",
   "metadata": {},
   "outputs": [],
   "source": [
    "plt.figure(figsize=(8, 5))\n",
    "sns.countplot(\n",
    "    data=df,\n",
    "    x='Ship Mode',\n",
    "    order=df['Ship Mode'].value_counts().index,\n",
    "    hue='Ship Mode',\n",
    "    palette='pastel'\n",
    ")\n",
    "plt.title('Most Frequently Used Shipping Method', fontsize=14, fontweight='bold')\n",
    "plt.xlabel('Shipping Method', fontsize=12)\n",
    "plt.ylabel('Number of Orders', fontsize=12)\n",
    "plt.grid(axis='y', linestyle='--', alpha=0.7)\n",
    "plt.tight_layout()\n",
    "plt.show()"
   ]
  },
  {
   "cell_type": "markdown",
   "id": "321b272b-4c55-4196-b744-e57d2dcd433c",
   "metadata": {},
   "source": [
    "#### 🕵️‍♂️ Insights:\n",
    "\n",
    "Standard Class dominates the shipping preferences, likely due to its balance between cost and delivery time.\n",
    "\n",
    "The popularity of this shipping method suggests it might be the default option selected by customers or the one promoted most during checkout.\n",
    "\n",
    "Less frequently used methods such as Same Day or First Class may indicate higher cost, limited availability, or low perceived value by customers.\n",
    "\n",
    "However, frequency of use does not always equate to effectiveness. If previous shipping delay analyses showed high delay rates for the most used method, this could point to systemic inefficiencies or customer compromise due to price.\n",
    "\n",
    "Businesses should consider cross-analyzing this preference with shipping delays, profit margins, and customer satisfaction metrics to ensure the chosen method truly serves both the company and the customers effectively.\n"
   ]
  },
  {
   "cell_type": "markdown",
   "id": "33d7feb3-0436-4f98-8c35-f30137b73d43",
   "metadata": {},
   "source": [
    "## ===== Analysis of the relationship between the Ship Mode & related variables =====\n",
    "We'll review how shipping methods affect:\n",
    "- Segment\n",
    "- Region\n",
    "- Category\n",
    "- Shipping Delay\n",
    "- Sales\n",
    "- Profit"
   ]
  },
  {
   "cell_type": "markdown",
   "id": "7bd0b56c-8998-4379-a0cd-5736159ce30b",
   "metadata": {},
   "source": [
    "### ---- 📊Shipping Mode Distribution by Segment ----"
   ]
  },
  {
   "cell_type": "code",
   "execution_count": null,
   "id": "bb47ccd4-fdd3-42ab-89ec-e630de447b11",
   "metadata": {},
   "outputs": [],
   "source": [
    "plt.figure(figsize=(10,5))\n",
    "sns.countplot(data=df, x='Ship Mode', hue='Segment', palette='Set3')\n",
    "plt.title('Distribution of Shipping Modes by Segment')\n",
    "plt.xlabel('Shipping Mode')\n",
    "plt.ylabel('Number of Orders')\n",
    "plt.legend(title='Segment')\n",
    "plt.show()"
   ]
  },
  {
   "cell_type": "markdown",
   "id": "d56091fd-1f70-4a2a-ad6a-62012f1fb1f0",
   "metadata": {},
   "source": [
    "#### 🕵️‍♂️ Insights:\n",
    "Consumer and Corporate segments tend to favor Standard Class and Second Class, suggesting that cost-effectiveness is a major priority for these groups.\n",
    "\n",
    "Home Office customers, while fewer in number, show a relatively higher usage of First Class, possibly due to smaller but more urgent orders.\n",
    "\n",
    "This distribution implies that customer priorities (speed vs. price) differ by segment, and the shipping strategy should be tailored accordingly.\n"
   ]
  },
  {
   "cell_type": "markdown",
   "id": "1927c38e-cbbe-4fa9-a853-21ab8de1265e",
   "metadata": {},
   "source": [
    "### ---- 📊Analysis of Shipping Mode Distribution by Region ----"
   ]
  },
  {
   "cell_type": "code",
   "execution_count": null,
   "id": "9778245a-e6af-416a-bb5d-6b8342d22e98",
   "metadata": {},
   "outputs": [],
   "source": [
    "plt.figure(figsize=(10,5))\n",
    "sns.countplot(data=df, x='Ship Mode', hue='Region', palette='Pastel1')\n",
    "plt.title('Distribution of Shipping Modes by Region')\n",
    "plt.xlabel('Shipping Mode')\n",
    "plt.ylabel('Number of Orders')\n",
    "plt.legend(title='Region')\n",
    "plt.show()"
   ]
  },
  {
   "cell_type": "markdown",
   "id": "6fe6a17d-41e2-41e6-9b1a-a0c3e3739a9f",
   "metadata": {},
   "source": [
    "#### 🕵️‍♂️ Insights:\n",
    "The West and East regions show a higher reliance on Standard Class, suggesting either longer shipping distances (making faster options costly) or customer willingness to wait.\n",
    "\n",
    "The South region shows a relatively balanced usage of all shipping modes, which could indicate either a well-optimized logistics network or varied customer profiles.\n",
    "\n",
    "Interestingly, the Central region shows a notable spike in Second Class and First Class usage, which might suggest:\n",
    "\n",
    "A logistical hub in that region, allowing quicker fulfillment,\n",
    "\n",
    "Or customers expecting faster deliveries due to proximity to distribution centers."
   ]
  },
  {
   "cell_type": "markdown",
   "id": "6af111cc-02f7-4a39-b974-f9fa249d9988",
   "metadata": {},
   "source": [
    "### ---- 📊Analysis of Shipping Mode Distribution by Product Category ----"
   ]
  },
  {
   "cell_type": "code",
   "execution_count": null,
   "id": "b6e2e0fb-51a3-43c6-a807-8352f5d0010b",
   "metadata": {},
   "outputs": [],
   "source": [
    "plt.figure(figsize=(10,5))\n",
    "sns.countplot(data=df, x='Ship Mode', hue='Category', palette='Accent')\n",
    "plt.title('Distribution of Shipping Modes by Product Category')\n",
    "plt.xlabel('Shipping Mode')\n",
    "plt.ylabel('Number of Orders')\n",
    "plt.legend(title='Category')\n",
    "plt.show()"
   ]
  },
  {
   "cell_type": "markdown",
   "id": "569c6f35-caf7-45e1-90a1-2ebefefdec69",
   "metadata": {},
   "source": [
    "#### 🕵️‍♂️ Insights:\n",
    "The Technology category shows a higher share of Second Class and First Class shipping, likely due to:\n",
    "\n",
    "Higher product value, justifying faster shipping.\n",
    "\n",
    "Sensitivity to delivery times—customers often expect electronics to arrive promptly.\n",
    "\n",
    "The Office Supplies category is predominantly shipped via Standard Class, indicating:\n",
    "\n",
    "Lower urgency or value per item.\n",
    "\n",
    "Bulk or routine purchasing patterns by businesses.\n",
    "\n",
    "For Furniture, shipping appears evenly distributed, with notable use of Standard Class, possibly due to:\n",
    "\n",
    "Size and weight making expedited shipping costly.\n",
    "\n",
    "Longer expected lead times already accepted by customers."
   ]
  },
  {
   "cell_type": "markdown",
   "id": "d66d1ffe-922a-4574-b4c8-ff1f9eed11ed",
   "metadata": {},
   "source": [
    "### ---- 📊Average Shipping Delay by Shipping Mode ----"
   ]
  },
  {
   "cell_type": "code",
   "execution_count": null,
   "id": "b227a592-b534-4488-9aa6-fc5aae83379b",
   "metadata": {},
   "outputs": [],
   "source": [
    "avg_delay_shipmode = df.groupby('Ship Mode')['Shipping Delay'].mean()\n",
    "\n",
    "plt.figure(figsize=(8,4))\n",
    "sns.barplot(x=avg_delay_shipmode.index, y=avg_delay_shipmode.values, hue=avg_delay_shipmode.index, palette='Set2')\n",
    "plt.title('Average Shipping Delay by Shipping Mode')\n",
    "plt.xlabel('Shipping Mode')\n",
    "plt.ylabel('Average Shipping Delay (Days)')\n",
    "plt.grid(True, linestyle='--', alpha=0.36)\n",
    "plt.show()"
   ]
  },
  {
   "cell_type": "markdown",
   "id": "78779a71-41b5-4d91-82ee-816e3aff29df",
   "metadata": {},
   "source": [
    "#### 🕵️‍♂️ Conclusions\n",
    "Standard Class consistently shows the highest average delay, which aligns with its economical and non-expedited nature.\n",
    "\n",
    "Same Day and First Class modes demonstrate significantly lower delay averages, suggesting:\n",
    "\n",
    "Stronger logistic prioritization.\n",
    "\n",
    "Possibly better coordination with local/regional warehouses.\n",
    "\n",
    "Second Class sits in the middle, offering a balance between cost and timeliness.\n",
    "\n",
    "This distribution is not random; it's a reflection of deliberate logistical strategies. Where speed is not paid for, it is not guaranteed — a truth evident in the delay data."
   ]
  },
  {
   "cell_type": "markdown",
   "id": "51ce1ed7-ab97-4c3e-a9e6-6e54244467ee",
   "metadata": {},
   "source": [
    "### ---- 📊Average Sales by Shipping Mode ----"
   ]
  },
  {
   "cell_type": "code",
   "execution_count": null,
   "id": "91a467ca-7d6d-478d-8c74-12033179ee6c",
   "metadata": {},
   "outputs": [],
   "source": [
    "avg_sales_shipmode = df.groupby('Ship Mode')['Sales'].mean()\n",
    "\n",
    "plt.figure(figsize=(8,4))\n",
    "sns.barplot(x=avg_sales_shipmode.index, y=avg_sales_shipmode.values, hue=avg_sales_shipmode.index, palette='Blues_d')\n",
    "plt.title('Average Sales by Shipping Mode')\n",
    "plt.xlabel('Shipping Mode')\n",
    "plt.ylabel('Average Sales')\n",
    "plt.grid(True, linestyle='--', alpha=0.1)\n",
    "plt.show()"
   ]
  },
  {
   "cell_type": "markdown",
   "id": "0d9b9f59-ca97-47f4-8bcc-f549bb9e4edc",
   "metadata": {},
   "source": [
    "#### 🕵️‍♂️ Conclusions\n",
    "\n",
    "First Class and Same Day modes register higher average sales per order, indicating that:\n",
    "\n",
    "Premium shipping options are more commonly selected for higher-value orders.\n",
    "\n",
    "Customers may be willing to pay more when urgency or quality is involved.\n",
    "\n",
    "In contrast, Standard Class—the most affordable option—correlates with lower sales per order, suggesting:\n",
    "\n",
    "It's more frequently used for smaller, less expensive purchases.\n",
    "\n",
    "Possibly favored by budget-conscious or non-urgent customers.\n",
    "\n",
    "The link between order value and delivery speed is not coincidental. High sales often justify faster logistics, making the shipping mode a proxy for customer priority and product value."
   ]
  },
  {
   "cell_type": "markdown",
   "id": "a711a82d-81b2-472a-9613-029e255df6b8",
   "metadata": {},
   "source": [
    "### ---- 📊Average Profit by Shipping Mode ----"
   ]
  },
  {
   "cell_type": "code",
   "execution_count": null,
   "id": "76540e20-b9ea-4ce1-a12e-683f24ef1d26",
   "metadata": {},
   "outputs": [],
   "source": [
    "avg_profit_shipmode = df.groupby('Ship Mode')['Profit'].mean()\n",
    "\n",
    "plt.figure(figsize=(8,4))\n",
    "sns.barplot(x=avg_profit_shipmode.index, y=avg_profit_shipmode.values, hue=avg_profit_shipmode.index, palette='Greens_d')\n",
    "plt.title('Average Profit by Shipping Mode')\n",
    "plt.xlabel('Shipping Mode')\n",
    "plt.ylabel('Average Profit')\n",
    "plt.grid(True, linestyle='--', alpha=0.1)\n",
    "plt.show()"
   ]
  },
  {
   "cell_type": "markdown",
   "id": "7da3e7a5-43ee-4335-a9fa-ac3831a5ab6e",
   "metadata": {},
   "source": [
    "#### 🕵️‍♂️ Conclusions\n",
    "\n",
    "First Class and Same Day show higher average profit per order, reinforcing their role in premium transactions:\n",
    "\n",
    "These modes likely involve higher-margin items or customers more tolerant to price premiums.\n",
    "\n",
    "Their operational cost might be higher, but the per-order profit remains attractive.\n",
    "\n",
    "Standard Class yields the lowest average profit, possibly due to:\n",
    "\n",
    "Smaller order sizes.\n",
    "\n",
    "Lower product margins.\n",
    "\n",
    "Price-sensitive segments.\n",
    "\n",
    "Profit behavior aligns closely with sales findings—fast and premium shipping is often paired with high-value, high-margin transactions. This reinforces the idea that optimizing these channels could yield significant gains."
   ]
  },
  {
   "cell_type": "markdown",
   "id": "3d5ef2fc-2ccd-4e06-96dd-be96b6757cfd",
   "metadata": {},
   "source": [
    "### ---- 📊Summary Statistics by Shipping Mode ----"
   ]
  },
  {
   "cell_type": "code",
   "execution_count": null,
   "id": "30c32583-bf43-48f1-b43a-3f4575b4f114",
   "metadata": {},
   "outputs": [],
   "source": [
    "# Print a quick summary of the averages\n",
    "print(\"Average Shipping Delay by Shipping Mode:\\n\", avg_delay_shipmode, \"\\n\")\n",
    "print(\"Average Sales by Shipping Mode:\\n\", avg_sales_shipmode, \"\\n\")\n",
    "print(\"Average Profit by Shipping Mode:\\n\", avg_profit_shipmode, \"\\n\")"
   ]
  },
  {
   "cell_type": "markdown",
   "id": "531c784c-ed0e-4bc1-ae8f-aefcdeec1a83",
   "metadata": {},
   "source": [
    "#### 🕵️‍♂️ Conclusions \n",
    "\"It is a capital mistake to theorize before one has data.\" \n",
    "\n",
    "This quick summary confirms earlier visual findings with exact numbers:\n",
    "\n",
    "Same Day shipping typically has the lowest delay and highest profit, making it efficient yet lucrative.\n",
    "\n",
    "Standard Class shipping exhibits longer delays and lower profits, hinting at potential inefficiencies.\n",
    "\n",
    "First Class often balances high sales and good profitability, possibly appealing to high-value customer segments.\n",
    "\n",
    "These metrics reinforce the importance of aligning shipping strategies with customer expectations and profitability targets."
   ]
  },
  {
   "cell_type": "markdown",
   "id": "39ff66ce-8e0e-4cec-8fb7-333e7406c3d3",
   "metadata": {},
   "source": [
    "### ---- 📊Shipping Mode Distribution by Product Sub-Category ----"
   ]
  },
  {
   "cell_type": "code",
   "execution_count": null,
   "id": "32d6fb70-4180-4a74-919f-0fb0772e0d73",
   "metadata": {},
   "outputs": [],
   "source": [
    "plt.figure(figsize=(14, 6))\n",
    "sns.countplot(data=df, y='Sub-Category', hue='Ship Mode', order=df['Sub-Category'].value_counts().index)\n",
    "plt.title('Shipping Mode Distribution by Product Sub-Category')\n",
    "plt.xlabel('Number of Orders')\n",
    "plt.ylabel('Sub-Category')\n",
    "plt.legend(title='Ship Mode')\n",
    "plt.grid(True, linestyle='--', alpha=0.2)\n",
    "plt.tight_layout()\n",
    "plt.show()"
   ]
  },
  {
   "cell_type": "markdown",
   "id": "08dae701-f8bb-4e94-a500-b04cae06322f",
   "metadata": {},
   "source": [
    "#### 🕵️‍♂️ Conclusions\n",
    "This chart explores the distribution of shipping modes across product sub-categories. We observe that certain categories like \"Paper\" or \"Binders\" may favor standard or same-day shipping, while more delicate or high-value items like \"Phones\" or \"Chairs\" may lean toward expedited or first-class shipping.\n",
    "A sub-category with unusual shipping preferences could hint at operational bottlenecks, special handling requirements, or opportunities to optimize shipping costs."
   ]
  },
  {
   "cell_type": "markdown",
   "id": "083b137a-1def-4dea-80af-66b615ce5842",
   "metadata": {},
   "source": [
    "# 🔍 *Financial & Sales Performance Analysis*"
   ]
  },
  {
   "cell_type": "markdown",
   "id": "4baab4be-3b62-4672-9e39-28fe2b7e429b",
   "metadata": {},
   "source": [
    "### ---- 📊Total Sales, Profit, and Discounts by Segment ----"
   ]
  },
  {
   "cell_type": "code",
   "execution_count": null,
   "id": "4de1705d-ffde-425c-907d-e6058e92b989",
   "metadata": {},
   "outputs": [],
   "source": [
    "aggs = df.groupby(['Segment','Region', 'Category'])[['Sales', 'Profit', 'Discount']].sum().reset_index()\n",
    "aggs_melted = aggs.melt(id_vars=['Segment','Region', 'Category'], \n",
    "                        value_vars=['Sales', 'Profit', 'Discount'], \n",
    "                        var_name='Metric', \n",
    "                        value_name='Value')\n",
    "\n",
    "plt.figure(figsize=(14, 6))\n",
    "sns.barplot(data=aggs_melted, x='Segment', y='Value', hue='Metric', palette='Set1')\n",
    "plt.title('Total Sales, Profit, and Discount by Segment')\n",
    "plt.ylabel('Value')\n",
    "plt.xlabel('Segment')\n",
    "plt.legend(title='Metric')\n",
    "plt.tight_layout()\n",
    "plt.show()"
   ]
  },
  {
   "cell_type": "markdown",
   "id": "886a60b0-2add-4650-84b9-ae09104efd16",
   "metadata": {},
   "source": [
    "#### 🕵️‍♂️ Conclusions\n",
    "The Consumer segment leads in total sales and profit but also shows high discounts. This may reflect a volume-driven approach with moderate margins. The Corporate segment performs well with balanced metrics, while Home Office lags behind in overall financial contribution.\n"
   ]
  },
  {
   "cell_type": "markdown",
   "id": "8032ba48-10c7-46a9-9172-5260741a5e6f",
   "metadata": {},
   "source": [
    "### ---- 📊Total Sales, Profit, and Discounts by Region ----"
   ]
  },
  {
   "cell_type": "code",
   "execution_count": null,
   "id": "7a5a2ce0-29ae-48b9-bb56-1887e4b06031",
   "metadata": {},
   "outputs": [],
   "source": [
    "plt.figure(figsize=(14, 6))\n",
    "sns.barplot(data=aggs_melted, x='Region', y='Value', hue='Metric', palette='Set2')\n",
    "plt.title('Total Sales, Profit, and Discount by Region')\n",
    "plt.ylabel('Value')\n",
    "plt.xlabel('Region')\n",
    "plt.legend(title='Metric')\n",
    "plt.tight_layout()\n",
    "plt.show()"
   ]
  },
  {
   "cell_type": "markdown",
   "id": "73d0ef13-7aec-4270-8381-5c4db03eba63",
   "metadata": {},
   "source": [
    "#### 🕵️‍♂️ Conclusions\n",
    "The West and East regions contribute the most to both sales and profit, indicating high customer demand. The South region has lower performance but similar discount levels, suggesting room for marketing or pricing strategy improvements."
   ]
  },
  {
   "cell_type": "markdown",
   "id": "e2ae5b42-f225-4aa0-8ec6-b1385044dfa7",
   "metadata": {},
   "source": [
    "### ---- 📊Total Sales, Profit, and Discounts by Category ----"
   ]
  },
  {
   "cell_type": "code",
   "execution_count": null,
   "id": "aabc9978-114d-41ed-8705-52c559fbba65",
   "metadata": {},
   "outputs": [],
   "source": [
    "plt.figure(figsize=(14, 6))\n",
    "sns.barplot(data=aggs_melted, x='Category', y='Value', hue='Metric', palette='Set3')\n",
    "plt.title('Total Sales, Profit, and Discount by Category')\n",
    "plt.ylabel('Value')\n",
    "plt.xlabel('Category')\n",
    "plt.legend(title='Metric')\n",
    "plt.tight_layout()\n",
    "plt.show()"
   ]
  },
  {
   "cell_type": "markdown",
   "id": "09541c87-3070-4483-84f4-2319d5672109",
   "metadata": {},
   "source": [
    "#### 🕵️‍♂️ Conclusions\n",
    "Technology products generate the highest sales and profit with moderate discount levels, making them the most financially rewarding category. Furniture shows significant discounts but relatively lower profit, which may indicate either over-discounting or low margins. Office Supplies has steady sales but lower profitability."
   ]
  },
  {
   "cell_type": "markdown",
   "id": "3a39ef83-df4b-4fe2-b216-9467717d87d9",
   "metadata": {},
   "source": [
    "### ---- 📊Average Net Profit Margin by Category ----"
   ]
  },
  {
   "cell_type": "code",
   "execution_count": null,
   "id": "0722affb-6a55-4446-b90f-cde9c5502c61",
   "metadata": {},
   "outputs": [],
   "source": [
    "df['Net Profit Margin'] = (df['Profit'] / (df['Sales'] + 1e-6)) * 100\n",
    "\n",
    "margin_category = df.groupby('Category')['Net Profit Margin'].mean().reset_index()\n",
    "\n",
    "plt.figure(figsize=(10, 6))\n",
    "sns.barplot(data=margin_category, x='Category', y='Net Profit Margin')\n",
    "plt.title('Average Net Profit Margin by Category')\n",
    "plt.ylabel('% Net Profit Margin')\n",
    "plt.xlabel('Category')\n",
    "plt.show()"
   ]
  },
  {
   "cell_type": "markdown",
   "id": "67810a08-02e9-4a22-8851-c43d3524df9e",
   "metadata": {},
   "source": [
    "#### 🕵️‍♂️ Conclusions\n",
    "“While all categories bring in revenue, not all are equally rewarding.”\n",
    "The Technology category shows a significantly higher average net profit margin, indicating not only strong revenue but also lean costs or minimal discounts. In contrast, Furniture and Office Supplies exhibit much thinner margins, which could suggest either higher logistics costs, price sensitivity, or frequent discounting tactics.\n",
    "This signals that not all sales are created equal — Technology is likely the most strategically lucrative.\n"
   ]
  },
  {
   "cell_type": "markdown",
   "id": "2b76cb31-bad8-4594-b062-52282c751ce0",
   "metadata": {},
   "source": [
    "### ---- 📊Top 10 Products by Net Profit Margin ---- "
   ]
  },
  {
   "cell_type": "code",
   "execution_count": null,
   "id": "66c41482-903f-4176-907d-a265e7b162a8",
   "metadata": {},
   "outputs": [],
   "source": [
    "margin_product = df.groupby('Product Name')['Net Profit Margin'].mean().sort_values(ascending=False).head(10).reset_index()\n",
    "\n",
    "plt.figure(figsize=(12, 6))\n",
    "sns.barplot(data=margin_product, x='Net Profit Margin', y='Product Name')\n",
    "plt.title('Top 10 Products by Net Profit Margin')\n",
    "plt.xlabel('% Net Profit Margin')\n",
    "plt.ylabel('Product Name')\n",
    "plt.show()"
   ]
  },
  {
   "cell_type": "markdown",
   "id": "0e37020a-b848-4f16-b855-0a1ffcac3abf",
   "metadata": {},
   "source": [
    "#### 🕵️‍♂️ Conclusions\n",
    "“The crown jewels of profitability are often not the most visible.”\n",
    "These top 10 products aren't necessarily the best-selling ones, but they quietly deliver the highest returns per dollar of revenue. Such products may involve premium pricing, strong brand loyalty, or low competition.\n",
    "They are the hidden champions of the catalog, and should be strategically promoted, prioritized in procurement, and potentially used as models for expanding the high-margin portfolio.\n"
   ]
  },
  {
   "cell_type": "markdown",
   "id": "4cc8e8c3-ff11-4d45-8f53-18c7d9675db4",
   "metadata": {},
   "source": [
    "### ---- 📊 Net Profit Margin by Region ---- "
   ]
  },
  {
   "cell_type": "code",
   "execution_count": null,
   "id": "2b975e5e-d8d6-4300-9197-822db8b20254",
   "metadata": {},
   "outputs": [],
   "source": [
    "margin_region = df.groupby('Region')['Net Profit Margin'].mean().reset_index()\n",
    "\n",
    "plt.figure(figsize=(10, 6))\n",
    "sns.barplot(data=margin_region, x='Region', y='Net Profit Margin')\n",
    "plt.title('Net Profit Margin by Region')\n",
    "plt.ylabel('% Net Profit Margin')\n",
    "plt.xlabel('Region')\n",
    "plt.show()"
   ]
  },
  {
   "cell_type": "markdown",
   "id": "82a8ec5d-aa44-48ed-8b6e-90fa9eb82e05",
   "metadata": {},
   "source": [
    "#### 🕵️‍♂️ Conclusions\n",
    "“Profitability doesn’t just depend on what you sell—but also where you sell it.”\n",
    "The West region leads in profit margins, revealing either lower operational costs, stronger purchasing power, or less discount-driven sales behavior.\n",
    "Meanwhile, Central and South regions trail behind, which could hint at inefficiencies, price sensitivity, or logistical challenges. This opens a case for region-specific pricing strategies and targeted efficiency improvements in underperforming areas."
   ]
  },
  {
   "cell_type": "markdown",
   "id": "d3b92ec4-1249-468b-b8dd-c3443678ccd7",
   "metadata": {},
   "source": [
    "### ---- 📊Effect of Discount Brackets on Average Profit ----"
   ]
  },
  {
   "cell_type": "code",
   "execution_count": null,
   "id": "8422af8b-2337-43a2-9f35-ad9ece539158",
   "metadata": {},
   "outputs": [],
   "source": [
    "# Group discounts into intervals\n",
    "discount_bins = pd.cut(df['Discount'], bins=[0, 0.1, 0.2, 0.3, 0.4, 1], labels=['0-10%', '10-20%', '20-30%', '30-40%', '>40%'])\n",
    "discount_profit = df.groupby(discount_bins, observed=False)[['Profit']].mean().reset_index()\n",
    "# Plot average profit by discount range\n",
    "plt.figure(figsize=(10, 6))\n",
    "sns.barplot(data=discount_profit, x='Discount', y='Profit', hue='Discount', palette='coolwarm')\n",
    "plt.title('Impact of Discount on Average Profit')\n",
    "plt.ylabel('Average Profit')\n",
    "plt.xlabel('Discount Range')\n",
    "for i, val in enumerate(discount_profit['Profit']):\n",
    "    plt.text(i, val, f'{val:.2f}', ha='center', va='bottom')\n",
    "plt.show()\n"
   ]
  },
  {
   "cell_type": "markdown",
   "id": "4677b546-10ed-4c29-87d7-eb083a6bd37c",
   "metadata": {},
   "source": [
    "#### 🕵️‍♂️ Conclusions\n",
    "0–10% discounts show positive average profits, suggesting they are safe and potentially effective for stimulating sales.\n",
    "\n",
    "20–30% and above show significant erosion of profitability, with the >40% bracket being the most damaging.\n",
    "\n",
    "The relationship is not linear but sharply negative after a tipping point at 10–20%.\n",
    "\n",
    " Strategic Recommendations\n",
    "- Minimize usage of high discounts (>30%) as they consistently reduce profitability.\n",
    "- Promote low-tier discounts (0–10%) where margins are maintained and profitability remains positive.\n",
    "- Investigate high-discount, high-sales products for margin leakage.\n"
   ]
  },
  {
   "cell_type": "markdown",
   "id": "a9b7240b-6c25-45e8-ab0b-48b8895985a9",
   "metadata": {},
   "source": [
    "### ---- 📊Monthly Financial Performance: Sales vs. Profit Over Time ----"
   ]
  },
  {
   "cell_type": "code",
   "execution_count": null,
   "id": "d746cfda-fd8b-4cef-af39-d5c907316eb2",
   "metadata": {},
   "outputs": [],
   "source": [
    "# Extract month from order date\n",
    "df['Order Month'] = df['Order Date'].dt.to_period('M').astype(str)\n",
    "\n",
    "# Aggregate monthly sales and profit\n",
    "monthly = df.groupby(['Order Month']).agg({\n",
    "    'Sales': 'sum',\n",
    "    'Profit': 'sum'\n",
    "}).reset_index()\n",
    "\n",
    "# Plot sales and profit trends over time\n",
    "plt.figure(figsize=(14, 6))\n",
    "sns.lineplot(data=monthly, x='Order Month', y='Sales', label='Sales')\n",
    "sns.lineplot(data=monthly, x='Order Month', y='Profit', label='Profit')\n",
    "plt.xticks(rotation=45)\n",
    "plt.title('Sales and Profit Performance Over Time')\n",
    "plt.ylabel('Value')\n",
    "plt.xlabel('Month')\n",
    "plt.legend()\n",
    "plt.grid(True, linestyle='--', alpha=0.6)\n",
    "plt.tight_layout()\n",
    "plt.show()"
   ]
  },
  {
   "cell_type": "markdown",
   "id": "efc862b8-47f9-4cb9-924b-22e04f9bb42a",
   "metadata": {},
   "source": [
    "### ---- 📊Standard Deviation of Shipping Delay by State ----"
   ]
  },
  {
   "cell_type": "code",
   "execution_count": null,
   "id": "b7c12511-a045-45ce-8888-2ca263c14bee",
   "metadata": {},
   "outputs": [],
   "source": [
    "def analyze_profit_by_variable(data, group_by_column, kind_char, color_name):\n",
    "    \"\"\"\n",
    "    General-purpose function to visualize total profit by a specific variable.\n",
    "\n",
    "    Parameters:\n",
    "        data: DataFrame containing the data.\n",
    "        group_by_column: Column name to group by (e.g., 'Category', 'Region').\n",
    "        kimd_char: Type of chart required (e.g., bar, barh, pie).\n",
    "        color_name: A color name or list for consistent plot styling.\n",
    "\n",
    "    Returns:\n",
    "        grouped_data: A DataFrame with grouped and sorted profit values.\n",
    "    \"\"\"\n",
    "\n",
    "    # Grouping and aggregating profit\n",
    "    grouped_data = data.groupby(group_by_column)['Profit'].sum().reset_index()\n",
    "    grouped_data = grouped_data.sort_values('Profit', ascending=(len(grouped_data) <= 5))\n",
    "\n",
    "    # Plotting\n",
    "    plt.figure(figsize=(10, 6) if len(grouped_data) <= 10 else (12, 7))\n",
    "    grouped_data.plot(kind=kind_char, x=group_by_column, y='Profit', color=color_name , legend=False)\n",
    "    plt.axvline(0, color='red', linestyle='-', linewidth=0.5)\n",
    "    plt.xlabel('Total Profit')\n",
    "    plt.ylabel(group_by_column)\n",
    "\n",
    "\n",
    "    plt.title(f'Total Profit by {group_by_column}')\n",
    "    plt.xticks(rotation=0)\n",
    "    plt.tight_layout()\n",
    "    plt.grid(True, linestyle='--', alpha=0.3)\n",
    "    plt.show()\n",
    "\n",
    "    return grouped_data"
   ]
  },
  {
   "cell_type": "markdown",
   "id": "677edb2e-53dd-440a-86d5-9af948047abf",
   "metadata": {},
   "source": [
    "### ---- 📊Profit Analysis of Furniture in the Western Region by Sub-Category ----"
   ]
  },
  {
   "cell_type": "code",
   "execution_count": null,
   "id": "c71ef13f-6a63-460a-bdf1-5fb4f04b3cba",
   "metadata": {},
   "outputs": [],
   "source": [
    "furniture_west = df[(df['Category']=='Furniture') & (df['Region']=='West')]\n",
    "analyze_profit_by_variable(furniture_west, 'Sub-Category', 'bar', ['Purple','pink'])"
   ]
  },
  {
   "cell_type": "markdown",
   "id": "eea74880-a997-4fb8-b2b7-5b59a211be37",
   "metadata": {},
   "source": [
    "### ---- 📊Total Profit by Main Category ----"
   ]
  },
  {
   "cell_type": "code",
   "execution_count": null,
   "id": "835f4ba1-300f-4ec0-8653-14fd75596f71",
   "metadata": {},
   "outputs": [],
   "source": [
    "analyze_profit_by_variable(df, 'Category', 'barh', ['skyblue', 'salmon', 'lightgreen'])"
   ]
  },
  {
   "cell_type": "markdown",
   "id": "da223056-2398-4273-9fc4-f57f66352152",
   "metadata": {},
   "source": [
    "#### 🕵️‍♂️ Conclusions\n",
    "This horizontal bar chart reveals that some categories might be yielding negative or low profits, potentially due to cost structure or discounting."
   ]
  },
  {
   "cell_type": "markdown",
   "id": "0823e67c-4212-4286-b153-cb913ec17ea7",
   "metadata": {},
   "source": [
    "### ---- 📊Total Profit by Sub-Category ----"
   ]
  },
  {
   "cell_type": "code",
   "execution_count": null,
   "id": "b388cb70-6757-4b4f-ad9d-02ddff2e3ffc",
   "metadata": {},
   "outputs": [],
   "source": [
    "analyze_profit_by_variable(df, 'Sub-Category', 'barh','teal')"
   ]
  },
  {
   "cell_type": "markdown",
   "id": "89702cb9-d34f-416d-9b76-a91e91116ac3",
   "metadata": {},
   "source": [
    "It highlights which specific product types drive or drain profit.\n",
    "Helps in optimizing product mix and identifying loss-making items."
   ]
  },
  {
   "cell_type": "markdown",
   "id": "c3829854-262d-4466-b28d-742c5e18eab0",
   "metadata": {},
   "source": [
    "### ---- 📊 Profit Share by Region ----"
   ]
  },
  {
   "cell_type": "code",
   "execution_count": null,
   "id": "95b6f9bc-c907-49c7-8c80-b9ea6b380eb4",
   "metadata": {},
   "outputs": [],
   "source": [
    "region_profit = df.groupby('Region')['Profit'].sum().sort_values()\n",
    "region_profit.plot(kind='pie', autopct='%1.1f%%', figsize=(8,8), colors=['brown','pink'], shadow=True)\n",
    "plt.title('Profit Share by Region')\n",
    "plt.show()"
   ]
  },
  {
   "cell_type": "markdown",
   "id": "532a8952-8423-44c3-8d9f-71ad29e1f66a",
   "metadata": {},
   "source": [
    "it informs regional performance in total profits."
   ]
  },
  {
   "cell_type": "markdown",
   "id": "176600c8-e507-429b-8e89-b2f02b078dc2",
   "metadata": {},
   "source": [
    "### ---- 📊 Total Profit by Customer Segment ----"
   ]
  },
  {
   "cell_type": "code",
   "execution_count": null,
   "id": "43ee3cc1-4535-45dd-b934-67657cee6cdd",
   "metadata": {},
   "outputs": [],
   "source": [
    "segment_profit = df.groupby('Segment')['Profit'].sum()\n",
    "segment_profit.plot(kind='bar', color=['gold', 'violet', 'lightblue'])\n",
    "plt.title('Total Profit by Customer Segment')\n",
    "plt.ylabel('Total Profit')\n",
    "plt.xlabel('Customer Segment')\n",
    "plt.grid(True, linestyle='--', alpha=0.3)\n",
    "plt.show()\n"
   ]
  },
  {
   "cell_type": "markdown",
   "id": "3d5f2bc1-16af-4a31-bf74-12fffd567b22",
   "metadata": {},
   "source": [
    "Customer segments differ in profitability. If a segment like “Home Office” consistently shows lower profit, strategies might include revising targeted offers or reconsidering discounts."
   ]
  },
  {
   "cell_type": "markdown",
   "id": "559df19f-2de2-455c-8f61-edbb0a1cc304",
   "metadata": {},
   "source": [
    "# 🔍 *Advanced Multivariate Analysis*"
   ]
  },
  {
   "cell_type": "markdown",
   "id": "b9b70a29-e9e4-4052-a800-16c6104c08f3",
   "metadata": {},
   "source": [
    "### ---- Shipping Delay by Region and Shipping Mode ----"
   ]
  },
  {
   "cell_type": "markdown",
   "id": "ee5a61b2-301d-46c4-91a1-e6de279c389f",
   "metadata": {},
   "source": [
    "### ---- 📊 Impact of Discount on Product Sales by Segment ----"
   ]
  },
  {
   "cell_type": "code",
   "execution_count": null,
   "id": "0f5ee46c-f011-4e57-bad6-e912a63f0c14",
   "metadata": {},
   "outputs": [],
   "source": [
    "discount_product_segment = df.groupby(['Segment', 'Product Name']) \\\n",
    "                             .agg({'Sales': 'sum', 'Total Discount': 'sum'}) \\\n",
    "                             .reset_index()\n",
    "\n",
    "plt.figure(figsize=(15, 8))\n",
    "sns.scatterplot(data=discount_product_segment,\n",
    "                x='Total Discount',\n",
    "                y='Sales',\n",
    "                hue='Segment',\n",
    "                alpha=0.7)\n",
    "plt.title('Impact of Discount on Product Sales by Segment')\n",
    "plt.xlabel('Total Discount per Product')\n",
    "plt.ylabel('Total Sales per Product')\n",
    "plt.grid(True, linestyle='--', alpha=0.6)\n",
    "plt.tight_layout()\n",
    "plt.show()"
   ]
  },
  {
   "cell_type": "markdown",
   "id": "8dc04efb-6401-439c-b10b-d69a398239db",
   "metadata": {},
   "source": [
    "#### 🕵️‍♂️ Conclusions\n",
    "This scatter plot reveals how discounting strategies correlate with total product sales across different customer segments:\n",
    "\n",
    "Positive Cluster: Some products exhibit a positive relationship—higher discounts lead to higher total sales. This is more evident in segments like \"Consumer,\" where promotions likely drive volume.\n",
    "\n",
    "Saturation Zone: Beyond a certain discount threshold, sales gains flatten. This suggests diminishing returns and highlights the importance of controlled discounting.\n",
    "\n",
    "Segment Differences: Each segment behaves differently—\"Corporate\" and \"Home Office\" segments may not respond to discounts as aggressively as \"Consumer.\"\n",
    "\n",
    "#### 🕵️ Recommendation :\n",
    "\n",
    "Watch closely the ‘Consumer’ segment: discounts seem to lure them in like moths to a flame. But tread carefully—discounts beyond 30% may no longer yield fruit. For ‘Corporate’ and ‘Home Office’, investigate other sales levers—perhaps service or product bundling."
   ]
  },
  {
   "cell_type": "markdown",
   "id": "96f6639d-a0d1-4a8d-ac36-ebdec8abde9e",
   "metadata": {},
   "source": [
    "### ---- 📊Relationship Between Sales and Profit by Category with Quantity Impact ----"
   ]
  },
  {
   "cell_type": "code",
   "execution_count": null,
   "id": "c16780d7-4a8b-4efe-be0e-a85576d3b0a6",
   "metadata": {},
   "outputs": [],
   "source": [
    "plt.figure(figsize=(12, 7))\n",
    "\n",
    "scatter = sns.scatterplot(\n",
    "    data=df,\n",
    "    x='Sales',\n",
    "    y='Profit',\n",
    "    hue='Category', \n",
    "    size='Quantity',  \n",
    "    alpha=0.7,\n",
    "    sizes=(40, 400),\n",
    "    edgecolor='black',\n",
    "    linewidth=0.5\n",
    ")\n",
    "\n",
    "plt.title('Relationship Between Sales and Profit by Category with Quantity Impact')\n",
    "plt.xlabel('Sales')\n",
    "plt.ylabel('Profit')\n",
    "plt.axhline(0, color='gray', linestyle='--')\n",
    "plt.grid(True, linestyle='--', alpha=0.5)\n",
    "plt.legend(title='Category', bbox_to_anchor=(1.05, 1), loc='upper left')\n",
    "plt.tight_layout()\n",
    "plt.show()"
   ]
  },
  {
   "cell_type": "markdown",
   "id": "da1e844e-6ef6-40bb-8cff-30e356bbfa8f",
   "metadata": {},
   "source": [
    "#### 🕵️‍♂️ Conclusions \n",
    "Sales vs. Profit Behavior:\n",
    "\n",
    "The scatter shows a generally positive correlation between sales and profit—however, this is not linear, and many high-sale entries still suffer from low or negative profits.\n",
    "\n",
    "The horizontal reference line at 0 helps reveal products that are sold at a loss.\n",
    "\n",
    "Role of Quantity:\n",
    "\n",
    "Larger dots (representing higher quantities) do not necessarily correspond to higher profits, indicating that some products may be over-discounted or mispriced.\n",
    "\n",
    "Category-Based Patterns:\n",
    "\n",
    "Categories are clearly separated:\n",
    "\n",
    "One may notice that [e.g., Office Supplies] has many entries near zero profit despite decent sales—potential over-discounting or margin issues.\n",
    "\n",
    "Another, like [Technology], may show fewer entries but higher profitability, hinting at higher margins.\n",
    "\n",
    "Outliers:\n",
    "\n",
    "Some items show extremely high sales but low or even negative profit. These warrant investigation to determine if they are being used as loss leaders or if pricing errors exist.\n",
    "Conclusion\n",
    "This multi-dimensional visualization reveals that:\n",
    "\n",
    "High sales volumes are not always profitable.\n",
    "\n",
    "Quantity sold alone cannot explain profitability—Category and perhaps discounting policy play crucial roles."
   ]
  },
  {
   "cell_type": "markdown",
   "id": "08f58887-81d2-4d16-9d5b-e31509f3f5ef",
   "metadata": {},
   "source": [
    "### ---- 📊The relationship between (product + segment + region) and sales ----"
   ]
  },
  {
   "cell_type": "code",
   "execution_count": null,
   "id": "f0ca9097-ca1e-415d-a8c3-609304f771a7",
   "metadata": {},
   "outputs": [],
   "source": [
    "plt.figure(figsize=(14, 6))\n",
    "sns.boxplot(data=df, x='Segment', y='Sales', hue='Region')\n",
    "plt.yscale('log')\n",
    "plt.title('Sales by Segment and Region')\n",
    "plt.ylabel('Sales (logarithmic scale)')\n",
    "plt.xlabel('Segment')\n",
    "plt.grid(axis='y', linestyle='--', alpha=0.5)\n",
    "plt.legend(title='Region', bbox_to_anchor=(1.05, 1), loc='upper left')\n",
    "plt.tight_layout()\n",
    "plt.show()"
   ]
  },
  {
   "cell_type": "markdown",
   "id": "300b9ade-a9e4-4c7e-b737-2bd4538da3f5",
   "metadata": {},
   "source": [
    "#### 🕵️‍♂️ Conclusions\n",
    "Segment Insights:\n",
    "\n",
    "Consumer and Corporate segments tend to show higher median sales compared to Home Office, particularly in the West and East regions.\n",
    "\n",
    "The Home Office segment displays greater variability and more lower-end sales.\n",
    "\n",
    "Regional Variations:\n",
    "\n",
    "The West and East regions generally show higher and more stable sales distributions across segments.\n",
    "\n",
    "The South and Central regions exhibit more variability and frequent low-value orders.\n",
    "\n",
    "Outliers:\n",
    "\n",
    "Many segments contain high-value outliers, likely large business-to-business orders.\n",
    "\n",
    "#### 🧠 Conclusion\n",
    "This plot highlights disparities in sales performance across customer segments and regions.\n",
    "\n",
    "The Consumer and Corporate segments in East and West regions are top performers.\n",
    "\n",
    "The Home Office segment may benefit from more targeted marketing or bundling to improve order value."
   ]
  },
  {
   "cell_type": "markdown",
   "id": "174ec642-baad-4a02-9ed7-6190e8277b85",
   "metadata": {},
   "source": [
    "### ---- Relationship Between Discount and Profit ----"
   ]
  },
  {
   "cell_type": "code",
   "execution_count": null,
   "id": "cd76a535-5081-4d94-97ad-7ca2396a5694",
   "metadata": {},
   "outputs": [],
   "source": [
    "from sklearn.linear_model import LinearRegression\n",
    "from sklearn.model_selection import train_test_split\n",
    "from sklearn.metrics import r2_score"
   ]
  },
  {
   "cell_type": "code",
   "execution_count": null,
   "id": "c15ef1aa-920d-4d09-b159-eb5309fed0e5",
   "metadata": {},
   "outputs": [],
   "source": [
    "plt.figure(figsize=(8, 6))\n",
    "sns.scatterplot(data=df, x='Discount', y='Profit')\n",
    "plt.title('Relationship Between Discount and Profit')\n",
    "plt.grid(True, linestyle='--', alpha=0.5)\n",
    "plt.show()"
   ]
  },
  {
   "cell_type": "markdown",
   "id": "a970d1a2-44c4-4c63-87b2-583494c490f0",
   "metadata": {},
   "source": [
    "#### 🧠 Insight:\n",
    "This scatterplot reveals the general impact of discounting on profit. As a detective of margins, you’re likely to find that excessive discounting (especially near 0.8–1.0) is correlated with negative profits — an early red flag for strategic review."
   ]
  },
  {
   "cell_type": "markdown",
   "id": "36281afb-a722-4b7f-aacb-6dc0b912c308",
   "metadata": {},
   "source": [
    "### ---- Relationship Between Quantity and Profit ----"
   ]
  },
  {
   "cell_type": "code",
   "execution_count": null,
   "id": "0c9ad6f8-dfd4-4097-861c-f764b57581ef",
   "metadata": {},
   "outputs": [],
   "source": [
    "plt.figure(figsize=(8, 6))\n",
    "sns.scatterplot(data=df, x='Quantity', y='Profit')\n",
    "plt.title('Relationship Between Quantity and Profit')\n",
    "plt.grid(True, linestyle='--', alpha=0.5)\n",
    "plt.show()"
   ]
  },
  {
   "cell_type": "markdown",
   "id": "d9a19e7c-3672-4f34-9d8c-04ac8a46a392",
   "metadata": {},
   "source": [
    "#### 🧠 Insight:\n",
    "An essential check for economies of scale. If increasing quantity doesn’t translate to profit, the cost structure or pricing model may be flawed."
   ]
  },
  {
   "cell_type": "markdown",
   "id": "530684db-6197-43b5-8667-e7730b663866",
   "metadata": {},
   "source": [
    "### ---- Relationship Between Sales and Profit ----"
   ]
  },
  {
   "cell_type": "code",
   "execution_count": null,
   "id": "b1562055-5552-466f-a918-2c38762e60b9",
   "metadata": {},
   "outputs": [],
   "source": [
    "plt.figure(figsize=(8, 6))\n",
    "sns.scatterplot(data=df, x='Sales', y='Profit')\n",
    "plt.title('Relationship Between Sales and Profit')\n",
    "plt.xscale('log')\n",
    "plt.grid(True, linestyle='--', alpha=0.5)\n",
    "plt.show()"
   ]
  },
  {
   "cell_type": "markdown",
   "id": "8e778fae-6567-4b26-b611-bb61853522fd",
   "metadata": {},
   "source": [
    "#### 🧠 Insight:\n",
    "You may discover that even high sales can sometimes result in loss — this suggests pricing misalignment or high associated costs."
   ]
  },
  {
   "cell_type": "markdown",
   "id": "fb0e8f06-d533-4a97-9b87-f5728922b786",
   "metadata": {},
   "source": [
    "### ---- Loss-Making Products and States ----"
   ]
  },
  {
   "cell_type": "code",
   "execution_count": null,
   "id": "0f865b3d-4ade-4379-aac8-2c2b7ba062f8",
   "metadata": {},
   "outputs": [],
   "source": [
    "loss_products = df[df['Profit'] < 0]\n",
    "\n",
    "plt.figure(figsize=(12, 6))\n",
    "sns.countplot(data=loss_products, y='Sub-Category', order=loss_products['Sub-Category'].value_counts().index)\n",
    "plt.title('Loss-Making Sub-Categories')\n",
    "plt.grid(True, linestyle='--', alpha=0.5)\n",
    "plt.show()\n",
    "\n",
    "plt.figure(figsize=(12, 6))\n",
    "sns.countplot(data=loss_products, y='State', order=loss_products['State'].value_counts().nlargest(15).index)\n",
    "plt.title('Top Loss-Making States')\n",
    "plt.grid(True, linestyle='--', alpha=0.5)\n",
    "plt.show()"
   ]
  },
  {
   "cell_type": "markdown",
   "id": "c0dfc10b-4157-471b-9e1d-42569982c26f",
   "metadata": {},
   "source": [
    "#### 🧠 Insight:\n",
    "This narrows down your suspects: which products and which states bleed profits. These are the crime scenes of your sales strategy — targets for discontinuation, reevaluation, or localized corrective pricing."
   ]
  },
  {
   "cell_type": "markdown",
   "id": "1aa509ee-775e-427f-b63d-de16abcae0d5",
   "metadata": {},
   "source": [
    "### ---- Strategic Profit Insights ----"
   ]
  },
  {
   "cell_type": "code",
   "execution_count": null,
   "id": "bd5ed30f-2dbc-4300-b5e3-d14b64d1cb25",
   "metadata": {},
   "outputs": [],
   "source": [
    "high_profit = df.groupby(['Category', 'Region', 'Segment'])['Profit'].sum().reset_index().sort_values(by='Profit', ascending=False)\n",
    "print(\"\\nTop Profit-Generating Combinations:\")\n",
    "print(high_profit.head(10))\n",
    "\n",
    "low_profit = df.groupby(['Sub-Category', 'State'])['Profit'].sum().reset_index().sort_values(by='Profit')\n",
    "print(\"\\nLowest Profit or Loss-Making Combinations:\")\n",
    "print(low_profit.head(10))"
   ]
  },
  {
   "cell_type": "markdown",
   "id": "274aa65d-1a4d-4645-af8b-b93132dd6813",
   "metadata": {},
   "source": [
    "#### 🧠 Insight:\n",
    "This gives a top-down view of what’s working well — your most profitable customer-region-product intersections. Vital for focusing marketing and resource allocation."
   ]
  },
  {
   "cell_type": "markdown",
   "id": "54422bb5-220d-42ab-a6de-063a04bfd485",
   "metadata": {},
   "source": [
    "### ---- Shipping Efficiency Analysis ----"
   ]
  },
  {
   "cell_type": "code",
   "execution_count": null,
   "id": "3c537264-e8e7-4dff-bc49-a4ce88c98e1b",
   "metadata": {},
   "outputs": [],
   "source": [
    "df['Order Date'] = pd.to_datetime(df['Order Date'])\n",
    "df['Ship Date'] = pd.to_datetime(df['Ship Date'])\n",
    "df['Ship Duration'] = (df['Ship Date'] - df['Order Date']).dt.days\n",
    "\n",
    "plt.figure(figsize=(10, 6))\n",
    "sns.boxplot(data=df, x='Ship Mode', y='Ship Duration')\n",
    "plt.title('Shipping Duration by Ship Mode')\n",
    "plt.ylabel('Shipping Days')\n",
    "plt.xlabel('Shipping Mode')\n",
    "plt.grid(True, linestyle='--', alpha=0.5)\n",
    "plt.show()"
   ]
  },
  {
   "cell_type": "markdown",
   "id": "1681460e-e9bd-4be4-bfcc-671a7ce5d615",
   "metadata": {},
   "source": [
    "#### 🧠 Insight:\n",
    "Boxplot reveals outliers and consistency. If standard shipping regularly takes longer than promised, that’s a service issue. Faster shipping with shorter durations but low usage might need promotion."
   ]
  }
 ],
 "metadata": {
  "kernelspec": {
   "display_name": "Python 3 (ipykernel)",
   "language": "python",
   "name": "python3"
  },
  "language_info": {
   "codemirror_mode": {
    "name": "ipython",
    "version": 3
   },
   "file_extension": ".py",
   "mimetype": "text/x-python",
   "name": "python",
   "nbconvert_exporter": "python",
   "pygments_lexer": "ipython3",
   "version": "3.12.7"
  }
 },
 "nbformat": 4,
 "nbformat_minor": 5
}
